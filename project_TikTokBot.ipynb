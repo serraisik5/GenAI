{
 "cells": [
  {
   "cell_type": "markdown",
   "id": "124e5672",
   "metadata": {},
   "source": [
    "# Custom Chatbot Project"
   ]
  },
  {
   "cell_type": "markdown",
   "id": "2a4a94b3",
   "metadata": {},
   "source": [
    "TODO: In this cell, write an explanation of which dataset you have chosen and why it is appropriate for this task\n",
    "\n",
    "I choose TikTok wikipedia page for dataset. I aimed to investigate recent trends in TikTok and recent informations about the company. Since GPT 3.5 is not trained on 2023 and after data, it can not be aware of recent trends."
   ]
  },
  {
   "cell_type": "markdown",
   "id": "a63d4c5f",
   "metadata": {},
   "source": [
    "## Data Wrangling\n",
    "\n",
    "TODO: In the cells below, load your chosen dataset into a `pandas` dataframe with a column named `\"text\"`. This column should contain all of your text data, separated into at least 20 rows."
   ]
  },
  {
   "cell_type": "code",
   "execution_count": 1,
   "id": "c69b83a1",
   "metadata": {},
   "outputs": [],
   "source": [
    "import openai\n",
    "openai.api_key = \"sk-proj-MvKLgSSrzXCS9G036IL0T3BlbkFJwFnqrQGL39QBpVqKOGEu\""
   ]
  },
  {
   "cell_type": "code",
   "execution_count": 2,
   "id": "0a595980",
   "metadata": {},
   "outputs": [
    {
     "name": "stdout",
     "output_type": "stream",
     "text": [
      "361\n"
     ]
    },
    {
     "data": {
      "text/plain": [
       "0     TikTok, whose mainland Chinese counterpart is ...\n",
       "1     Since its launch, TikTok has become one of the...\n",
       "2     TikTok has come under scrutiny due to data pri...\n",
       "3                                                      \n",
       "4                                                      \n",
       "5                             == Corporate structure ==\n",
       "6     TikTok Ltd was incorporated in the Cayman Isla...\n",
       "7     Its parent company, Beijing-based ByteDance, i...\n",
       "8                                                      \n",
       "9                                                      \n",
       "10                                        == History ==\n",
       "11                                                     \n",
       "12                                                     \n",
       "13                                       === Douyin ===\n",
       "14                                                     \n",
       "15    Douyin was launched by ByteDance in September ...\n",
       "16    While TikTok and Douyin share a similar user i...\n",
       "17                                                     \n",
       "18                                                     \n",
       "19                                       === TikTok ===\n",
       "20    ByteDance planned on Douyin expanding overseas...\n",
       "21    ByteDance created TikTok as a global version o...\n",
       "22    On 23 January 2018, the TikTok app ranked firs...\n",
       "23    In the United States, celebrities, including J...\n",
       "24    On 3 September 2019, TikTok and the U.S. Natio...\n",
       "25    In May 2021, TikTok appointed Shou Zi Chew as ...\n",
       "26    In October 2022, TikTok was reported to be pla...\n",
       "27    According to data from app analytics group Sen...\n",
       "28    Since at least 2020, following calls to ban Ti...\n",
       "29                                                     \n",
       "Name: text, dtype: object"
      ]
     },
     "execution_count": 2,
     "metadata": {},
     "output_type": "execute_result"
    }
   ],
   "source": [
    "from dateutil.parser import parse\n",
    "import pandas as pd\n",
    "import requests\n",
    "\n",
    "# Get the Wikipedia page for \"TikTok\" for recent updates & trends\n",
    "resp = requests.get(\"https://en.wikipedia.org/w/api.php?action=query&prop=extracts&exlimit=1&titles=TikTok&explaintext=1&formatversion=2&format=json\")\n",
    "\n",
    "# Load page text into a dataframe\n",
    "df = pd.DataFrame()\n",
    "df[\"text\"] = resp.json()[\"query\"][\"pages\"][0][\"extract\"].split(\"\\n\")\n",
    "\n",
    "print(len(df[\"text\"]))\n",
    "df[\"text\"].head(30)"
   ]
  },
  {
   "cell_type": "code",
   "execution_count": 3,
   "id": "acb3a9fd",
   "metadata": {},
   "outputs": [
    {
     "data": {
      "text/html": [
       "<div>\n",
       "<style scoped>\n",
       "    .dataframe tbody tr th:only-of-type {\n",
       "        vertical-align: middle;\n",
       "    }\n",
       "\n",
       "    .dataframe tbody tr th {\n",
       "        vertical-align: top;\n",
       "    }\n",
       "\n",
       "    .dataframe thead th {\n",
       "        text-align: right;\n",
       "    }\n",
       "</style>\n",
       "<table border=\"1\" class=\"dataframe\">\n",
       "  <thead>\n",
       "    <tr style=\"text-align: right;\">\n",
       "      <th></th>\n",
       "      <th>text</th>\n",
       "    </tr>\n",
       "  </thead>\n",
       "  <tbody>\n",
       "    <tr>\n",
       "      <th>0</th>\n",
       "      <td>TikTok, whose mainland Chinese counterpart is ...</td>\n",
       "    </tr>\n",
       "    <tr>\n",
       "      <th>1</th>\n",
       "      <td>Since its launch, TikTok has become one of the...</td>\n",
       "    </tr>\n",
       "    <tr>\n",
       "      <th>2</th>\n",
       "      <td>TikTok has come under scrutiny due to data pri...</td>\n",
       "    </tr>\n",
       "    <tr>\n",
       "      <th>6</th>\n",
       "      <td>TikTok Ltd was incorporated in the Cayman Isla...</td>\n",
       "    </tr>\n",
       "    <tr>\n",
       "      <th>7</th>\n",
       "      <td>Its parent company, Beijing-based ByteDance, i...</td>\n",
       "    </tr>\n",
       "    <tr>\n",
       "      <th>...</th>\n",
       "      <td>...</td>\n",
       "    </tr>\n",
       "    <tr>\n",
       "      <th>346</th>\n",
       "      <td>Timeline of social media</td>\n",
       "    </tr>\n",
       "    <tr>\n",
       "      <th>357</th>\n",
       "      <td>Media related to TikTok at Wikimedia Commons</td>\n",
       "    </tr>\n",
       "    <tr>\n",
       "      <th>358</th>\n",
       "      <td>Works on the topic TikTok at Wikisource</td>\n",
       "    </tr>\n",
       "    <tr>\n",
       "      <th>359</th>\n",
       "      <td>Official website  (in English)</td>\n",
       "    </tr>\n",
       "    <tr>\n",
       "      <th>360</th>\n",
       "      <td>Douyin (in Chinese)</td>\n",
       "    </tr>\n",
       "  </tbody>\n",
       "</table>\n",
       "<p>159 rows × 1 columns</p>\n",
       "</div>"
      ],
      "text/plain": [
       "                                                  text\n",
       "0    TikTok, whose mainland Chinese counterpart is ...\n",
       "1    Since its launch, TikTok has become one of the...\n",
       "2    TikTok has come under scrutiny due to data pri...\n",
       "6    TikTok Ltd was incorporated in the Cayman Isla...\n",
       "7    Its parent company, Beijing-based ByteDance, i...\n",
       "..                                                 ...\n",
       "346                           Timeline of social media\n",
       "357       Media related to TikTok at Wikimedia Commons\n",
       "358            Works on the topic TikTok at Wikisource\n",
       "359                     Official website  (in English)\n",
       "360                                Douyin (in Chinese)\n",
       "\n",
       "[159 rows x 1 columns]"
      ]
     },
     "execution_count": 3,
     "metadata": {},
     "output_type": "execute_result"
    }
   ],
   "source": [
    "# Clean up text to remove empty lines and headings\n",
    "df = df[(df[\"text\"].str.len() > 0) & (~df[\"text\"].str.startswith(\"==\"))]\n",
    "df"
   ]
  },
  {
   "cell_type": "markdown",
   "id": "ae769871",
   "metadata": {},
   "source": [
    "## Custom Query Completion\n",
    "\n",
    "TODO: In the cells below, compose a custom query using your chosen dataset and retrieve results from an OpenAI `Completion` model. You may copy and paste any useful code from the course materials."
   ]
  },
  {
   "cell_type": "code",
   "execution_count": 4,
   "id": "582f0656",
   "metadata": {},
   "outputs": [],
   "source": [
    "EMBEDDING_MODEL_NAME = \"text-embedding-ada-002\"\n",
    "\n",
    "response = openai.Embedding.create(\n",
    "    input=df[\"text\"].tolist(),\n",
    "    engine=EMBEDDING_MODEL_NAME\n",
    ")\n",
    "\n",
    "# Extract embeddings\n",
    "embeddings = [data[\"embedding\"] for data in response[\"data\"]]"
   ]
  },
  {
   "cell_type": "code",
   "execution_count": 5,
   "id": "8b6e1f75",
   "metadata": {},
   "outputs": [
    {
     "data": {
      "text/html": [
       "<div>\n",
       "<style scoped>\n",
       "    .dataframe tbody tr th:only-of-type {\n",
       "        vertical-align: middle;\n",
       "    }\n",
       "\n",
       "    .dataframe tbody tr th {\n",
       "        vertical-align: top;\n",
       "    }\n",
       "\n",
       "    .dataframe thead th {\n",
       "        text-align: right;\n",
       "    }\n",
       "</style>\n",
       "<table border=\"1\" class=\"dataframe\">\n",
       "  <thead>\n",
       "    <tr style=\"text-align: right;\">\n",
       "      <th></th>\n",
       "      <th>text</th>\n",
       "      <th>embeddings</th>\n",
       "    </tr>\n",
       "  </thead>\n",
       "  <tbody>\n",
       "    <tr>\n",
       "      <th>0</th>\n",
       "      <td>TikTok, whose mainland Chinese counterpart is ...</td>\n",
       "      <td>[-0.023847214877605438, -0.009270330891013145,...</td>\n",
       "    </tr>\n",
       "    <tr>\n",
       "      <th>1</th>\n",
       "      <td>Since its launch, TikTok has become one of the...</td>\n",
       "      <td>[-0.031663309782743454, -0.015538003295660019,...</td>\n",
       "    </tr>\n",
       "    <tr>\n",
       "      <th>2</th>\n",
       "      <td>TikTok has come under scrutiny due to data pri...</td>\n",
       "      <td>[-0.016898926347494125, -0.016976090148091316,...</td>\n",
       "    </tr>\n",
       "    <tr>\n",
       "      <th>6</th>\n",
       "      <td>TikTok Ltd was incorporated in the Cayman Isla...</td>\n",
       "      <td>[-0.004194025881588459, -0.015445277094841003,...</td>\n",
       "    </tr>\n",
       "    <tr>\n",
       "      <th>7</th>\n",
       "      <td>Its parent company, Beijing-based ByteDance, i...</td>\n",
       "      <td>[0.016316397115588188, -0.026677049696445465, ...</td>\n",
       "    </tr>\n",
       "    <tr>\n",
       "      <th>...</th>\n",
       "      <td>...</td>\n",
       "      <td>...</td>\n",
       "    </tr>\n",
       "    <tr>\n",
       "      <th>346</th>\n",
       "      <td>Timeline of social media</td>\n",
       "      <td>[-0.04013114795088768, -0.00789528340101242, -...</td>\n",
       "    </tr>\n",
       "    <tr>\n",
       "      <th>357</th>\n",
       "      <td>Media related to TikTok at Wikimedia Commons</td>\n",
       "      <td>[-0.012876149266958237, -0.0044457376934587955...</td>\n",
       "    </tr>\n",
       "    <tr>\n",
       "      <th>358</th>\n",
       "      <td>Works on the topic TikTok at Wikisource</td>\n",
       "      <td>[-0.01904177851974964, -0.009272518567740917, ...</td>\n",
       "    </tr>\n",
       "    <tr>\n",
       "      <th>359</th>\n",
       "      <td>Official website  (in English)</td>\n",
       "      <td>[-0.0020897709764540195, -0.006642256397753954...</td>\n",
       "    </tr>\n",
       "    <tr>\n",
       "      <th>360</th>\n",
       "      <td>Douyin (in Chinese)</td>\n",
       "      <td>[-0.028545783832669258, -0.00588820967823267, ...</td>\n",
       "    </tr>\n",
       "  </tbody>\n",
       "</table>\n",
       "<p>159 rows × 2 columns</p>\n",
       "</div>"
      ],
      "text/plain": [
       "                                                  text  \\\n",
       "0    TikTok, whose mainland Chinese counterpart is ...   \n",
       "1    Since its launch, TikTok has become one of the...   \n",
       "2    TikTok has come under scrutiny due to data pri...   \n",
       "6    TikTok Ltd was incorporated in the Cayman Isla...   \n",
       "7    Its parent company, Beijing-based ByteDance, i...   \n",
       "..                                                 ...   \n",
       "346                           Timeline of social media   \n",
       "357       Media related to TikTok at Wikimedia Commons   \n",
       "358            Works on the topic TikTok at Wikisource   \n",
       "359                     Official website  (in English)   \n",
       "360                                Douyin (in Chinese)   \n",
       "\n",
       "                                            embeddings  \n",
       "0    [-0.023847214877605438, -0.009270330891013145,...  \n",
       "1    [-0.031663309782743454, -0.015538003295660019,...  \n",
       "2    [-0.016898926347494125, -0.016976090148091316,...  \n",
       "6    [-0.004194025881588459, -0.015445277094841003,...  \n",
       "7    [0.016316397115588188, -0.026677049696445465, ...  \n",
       "..                                                 ...  \n",
       "346  [-0.04013114795088768, -0.00789528340101242, -...  \n",
       "357  [-0.012876149266958237, -0.0044457376934587955...  \n",
       "358  [-0.01904177851974964, -0.009272518567740917, ...  \n",
       "359  [-0.0020897709764540195, -0.006642256397753954...  \n",
       "360  [-0.028545783832669258, -0.00588820967823267, ...  \n",
       "\n",
       "[159 rows x 2 columns]"
      ]
     },
     "execution_count": 5,
     "metadata": {},
     "output_type": "execute_result"
    }
   ],
   "source": [
    "df[\"embeddings\"] = embeddings\n",
    "df"
   ]
  },
  {
   "cell_type": "code",
   "execution_count": 6,
   "id": "13f2dcd7",
   "metadata": {},
   "outputs": [],
   "source": [
    "from openai.embeddings_utils import get_embedding, distances_from_embeddings\n",
    "\n",
    "\n",
    "def get_rows_sorted_by_relevance(question, df):\n",
    "    \"\"\"\n",
    "    Function that takes in a question string and a dataframe containing\n",
    "    rows of text and associated embeddings, and returns that dataframe\n",
    "    sorted from least to most relevant for that question\n",
    "    \"\"\"\n",
    "    \n",
    "    # embeddings for the question text\n",
    "    question_embeddings = get_embedding(question, engine=EMBEDDING_MODEL_NAME)\n",
    "    \n",
    "    df_copy = df.copy()\n",
    "    df_copy[\"distances\"] = distances_from_embeddings(\n",
    "        question_embeddings,\n",
    "        df_copy[\"embeddings\"].values,\n",
    "        distance_metric=\"cosine\"\n",
    "    )\n",
    "    \n",
    "    # Sort the copied dataframe by the distances and return it\n",
    "    # (shorter distance = more relevant so we sort in ascending order)\n",
    "    df_copy.sort_values(\"distances\", ascending=True, inplace=True)\n",
    "    return df_copy"
   ]
  },
  {
   "cell_type": "code",
   "execution_count": 7,
   "id": "71d40563",
   "metadata": {},
   "outputs": [],
   "source": [
    "question1 = \"What is the most popular trend of 2023?\"\n",
    "question2 = \"What is the revenue of TikTok in 2023?\""
   ]
  },
  {
   "cell_type": "code",
   "execution_count": 8,
   "id": "c403f543",
   "metadata": {},
   "outputs": [
    {
     "data": {
      "text/html": [
       "<div>\n",
       "<style scoped>\n",
       "    .dataframe tbody tr th:only-of-type {\n",
       "        vertical-align: middle;\n",
       "    }\n",
       "\n",
       "    .dataframe tbody tr th {\n",
       "        vertical-align: top;\n",
       "    }\n",
       "\n",
       "    .dataframe thead th {\n",
       "        text-align: right;\n",
       "    }\n",
       "</style>\n",
       "<table border=\"1\" class=\"dataframe\">\n",
       "  <thead>\n",
       "    <tr style=\"text-align: right;\">\n",
       "      <th></th>\n",
       "      <th>text</th>\n",
       "      <th>embeddings</th>\n",
       "      <th>distances</th>\n",
       "    </tr>\n",
       "  </thead>\n",
       "  <tbody>\n",
       "    <tr>\n",
       "      <th>75</th>\n",
       "      <td>In 2023, a trend emerged where streamers acted...</td>\n",
       "      <td>[-0.021095650270581245, -0.04050572216510773, ...</td>\n",
       "      <td>0.182548</td>\n",
       "    </tr>\n",
       "    <tr>\n",
       "      <th>1</th>\n",
       "      <td>Since its launch, TikTok has become one of the...</td>\n",
       "      <td>[-0.031663309782743454, -0.015538003295660019,...</td>\n",
       "      <td>0.191429</td>\n",
       "    </tr>\n",
       "    <tr>\n",
       "      <th>88</th>\n",
       "      <td>Content promoting cosmetic surgery is popular ...</td>\n",
       "      <td>[-0.035577356815338135, 0.01277468167245388, 0...</td>\n",
       "      <td>0.206899</td>\n",
       "    </tr>\n",
       "    <tr>\n",
       "      <th>344</th>\n",
       "      <td>Cultural impact of TikTok</td>\n",
       "      <td>[-0.02797224186360836, -0.02191379852592945, 0...</td>\n",
       "      <td>0.213185</td>\n",
       "    </tr>\n",
       "    <tr>\n",
       "      <th>345</th>\n",
       "      <td>List of most-followed TikTok accounts</td>\n",
       "      <td>[-0.025071294978260994, -0.010483878664672375,...</td>\n",
       "      <td>0.213460</td>\n",
       "    </tr>\n",
       "    <tr>\n",
       "      <th>...</th>\n",
       "      <td>...</td>\n",
       "      <td>...</td>\n",
       "      <td>...</td>\n",
       "    </tr>\n",
       "    <tr>\n",
       "      <th>315</th>\n",
       "      <td>According to a 2020 article in The New York Ti...</td>\n",
       "      <td>[-0.010271196253597736, -0.007845335640013218,...</td>\n",
       "      <td>0.296114</td>\n",
       "    </tr>\n",
       "    <tr>\n",
       "      <th>55</th>\n",
       "      <td>The app allows users to set their accounts as ...</td>\n",
       "      <td>[-0.022631125524640083, -0.016209479421377182,...</td>\n",
       "      <td>0.296770</td>\n",
       "    </tr>\n",
       "    <tr>\n",
       "      <th>359</th>\n",
       "      <td>Official website  (in English)</td>\n",
       "      <td>[-0.0020897709764540195, -0.006642256397753954...</td>\n",
       "      <td>0.301191</td>\n",
       "    </tr>\n",
       "    <tr>\n",
       "      <th>73</th>\n",
       "      <td>On 10 August 2020, Emily Jacobssen wrote and s...</td>\n",
       "      <td>[-0.013269932009279728, -0.008008637465536594,...</td>\n",
       "      <td>0.304753</td>\n",
       "    </tr>\n",
       "    <tr>\n",
       "      <th>297</th>\n",
       "      <td>Several former employees of the company have c...</td>\n",
       "      <td>[0.0057318066246807575, -0.014018673449754715,...</td>\n",
       "      <td>0.321901</td>\n",
       "    </tr>\n",
       "  </tbody>\n",
       "</table>\n",
       "<p>159 rows × 3 columns</p>\n",
       "</div>"
      ],
      "text/plain": [
       "                                                  text  \\\n",
       "75   In 2023, a trend emerged where streamers acted...   \n",
       "1    Since its launch, TikTok has become one of the...   \n",
       "88   Content promoting cosmetic surgery is popular ...   \n",
       "344                          Cultural impact of TikTok   \n",
       "345              List of most-followed TikTok accounts   \n",
       "..                                                 ...   \n",
       "315  According to a 2020 article in The New York Ti...   \n",
       "55   The app allows users to set their accounts as ...   \n",
       "359                     Official website  (in English)   \n",
       "73   On 10 August 2020, Emily Jacobssen wrote and s...   \n",
       "297  Several former employees of the company have c...   \n",
       "\n",
       "                                            embeddings  distances  \n",
       "75   [-0.021095650270581245, -0.04050572216510773, ...   0.182548  \n",
       "1    [-0.031663309782743454, -0.015538003295660019,...   0.191429  \n",
       "88   [-0.035577356815338135, 0.01277468167245388, 0...   0.206899  \n",
       "344  [-0.02797224186360836, -0.02191379852592945, 0...   0.213185  \n",
       "345  [-0.025071294978260994, -0.010483878664672375,...   0.213460  \n",
       "..                                                 ...        ...  \n",
       "315  [-0.010271196253597736, -0.007845335640013218,...   0.296114  \n",
       "55   [-0.022631125524640083, -0.016209479421377182,...   0.296770  \n",
       "359  [-0.0020897709764540195, -0.006642256397753954...   0.301191  \n",
       "73   [-0.013269932009279728, -0.008008637465536594,...   0.304753  \n",
       "297  [0.0057318066246807575, -0.014018673449754715,...   0.321901  \n",
       "\n",
       "[159 rows x 3 columns]"
      ]
     },
     "execution_count": 8,
     "metadata": {},
     "output_type": "execute_result"
    }
   ],
   "source": [
    "resp1 = get_rows_sorted_by_relevance(question1, df)\n",
    "resp1"
   ]
  },
  {
   "cell_type": "code",
   "execution_count": 9,
   "id": "14c23549",
   "metadata": {},
   "outputs": [
    {
     "data": {
      "text/plain": [
       "'In 2023, a trend emerged where streamers acted as if they were video-game characters following prompts from their viewers.'"
      ]
     },
     "execution_count": 9,
     "metadata": {},
     "output_type": "execute_result"
    }
   ],
   "source": [
    "resp1['text'][75]"
   ]
  },
  {
   "cell_type": "code",
   "execution_count": 10,
   "id": "74280b92",
   "metadata": {},
   "outputs": [
    {
     "data": {
      "text/html": [
       "<div>\n",
       "<style scoped>\n",
       "    .dataframe tbody tr th:only-of-type {\n",
       "        vertical-align: middle;\n",
       "    }\n",
       "\n",
       "    .dataframe tbody tr th {\n",
       "        vertical-align: top;\n",
       "    }\n",
       "\n",
       "    .dataframe thead th {\n",
       "        text-align: right;\n",
       "    }\n",
       "</style>\n",
       "<table border=\"1\" class=\"dataframe\">\n",
       "  <thead>\n",
       "    <tr style=\"text-align: right;\">\n",
       "      <th></th>\n",
       "      <th>text</th>\n",
       "      <th>embeddings</th>\n",
       "      <th>distances</th>\n",
       "    </tr>\n",
       "  </thead>\n",
       "  <tbody>\n",
       "    <tr>\n",
       "      <th>27</th>\n",
       "      <td>According to data from app analytics group Sen...</td>\n",
       "      <td>[-0.008965987712144852, -0.030806545168161392,...</td>\n",
       "      <td>0.099590</td>\n",
       "    </tr>\n",
       "    <tr>\n",
       "      <th>36</th>\n",
       "      <td>In 2023, several high-level executives transfe...</td>\n",
       "      <td>[-0.01912267878651619, -0.04586224630475044, 0...</td>\n",
       "      <td>0.123755</td>\n",
       "    </tr>\n",
       "    <tr>\n",
       "      <th>60</th>\n",
       "      <td>In May 2022, TikTok announced TikTok Pulse, an...</td>\n",
       "      <td>[-0.0274394191801548, -0.024557892233133316, -...</td>\n",
       "      <td>0.147734</td>\n",
       "    </tr>\n",
       "    <tr>\n",
       "      <th>25</th>\n",
       "      <td>In May 2021, TikTok appointed Shou Zi Chew as ...</td>\n",
       "      <td>[-0.011664737947285175, -0.026164883747696877,...</td>\n",
       "      <td>0.151094</td>\n",
       "    </tr>\n",
       "    <tr>\n",
       "      <th>40</th>\n",
       "      <td>Although the size of its user base falls short...</td>\n",
       "      <td>[-0.030518608167767525, -0.015180171467363834,...</td>\n",
       "      <td>0.156338</td>\n",
       "    </tr>\n",
       "    <tr>\n",
       "      <th>...</th>\n",
       "      <td>...</td>\n",
       "      <td>...</td>\n",
       "      <td>...</td>\n",
       "    </tr>\n",
       "    <tr>\n",
       "      <th>287</th>\n",
       "      <td>The Wall Street Journal has reported that doct...</td>\n",
       "      <td>[-0.024646127596497536, 0.020181341096758842, ...</td>\n",
       "      <td>0.270750</td>\n",
       "    </tr>\n",
       "    <tr>\n",
       "      <th>91</th>\n",
       "      <td>In December 2022, it was reported that a cosme...</td>\n",
       "      <td>[-0.04501093924045563, 0.013289311900734901, 0...</td>\n",
       "      <td>0.276171</td>\n",
       "    </tr>\n",
       "    <tr>\n",
       "      <th>359</th>\n",
       "      <td>Official website  (in English)</td>\n",
       "      <td>[-0.0020897709764540195, -0.006642256397753954...</td>\n",
       "      <td>0.292316</td>\n",
       "    </tr>\n",
       "    <tr>\n",
       "      <th>297</th>\n",
       "      <td>Several former employees of the company have c...</td>\n",
       "      <td>[0.0057318066246807575, -0.014018673449754715,...</td>\n",
       "      <td>0.303964</td>\n",
       "    </tr>\n",
       "    <tr>\n",
       "      <th>73</th>\n",
       "      <td>On 10 August 2020, Emily Jacobssen wrote and s...</td>\n",
       "      <td>[-0.013269932009279728, -0.008008637465536594,...</td>\n",
       "      <td>0.307701</td>\n",
       "    </tr>\n",
       "  </tbody>\n",
       "</table>\n",
       "<p>159 rows × 3 columns</p>\n",
       "</div>"
      ],
      "text/plain": [
       "                                                  text  \\\n",
       "27   According to data from app analytics group Sen...   \n",
       "36   In 2023, several high-level executives transfe...   \n",
       "60   In May 2022, TikTok announced TikTok Pulse, an...   \n",
       "25   In May 2021, TikTok appointed Shou Zi Chew as ...   \n",
       "40   Although the size of its user base falls short...   \n",
       "..                                                 ...   \n",
       "287  The Wall Street Journal has reported that doct...   \n",
       "91   In December 2022, it was reported that a cosme...   \n",
       "359                     Official website  (in English)   \n",
       "297  Several former employees of the company have c...   \n",
       "73   On 10 August 2020, Emily Jacobssen wrote and s...   \n",
       "\n",
       "                                            embeddings  distances  \n",
       "27   [-0.008965987712144852, -0.030806545168161392,...   0.099590  \n",
       "36   [-0.01912267878651619, -0.04586224630475044, 0...   0.123755  \n",
       "60   [-0.0274394191801548, -0.024557892233133316, -...   0.147734  \n",
       "25   [-0.011664737947285175, -0.026164883747696877,...   0.151094  \n",
       "40   [-0.030518608167767525, -0.015180171467363834,...   0.156338  \n",
       "..                                                 ...        ...  \n",
       "287  [-0.024646127596497536, 0.020181341096758842, ...   0.270750  \n",
       "91   [-0.04501093924045563, 0.013289311900734901, 0...   0.276171  \n",
       "359  [-0.0020897709764540195, -0.006642256397753954...   0.292316  \n",
       "297  [0.0057318066246807575, -0.014018673449754715,...   0.303964  \n",
       "73   [-0.013269932009279728, -0.008008637465536594,...   0.307701  \n",
       "\n",
       "[159 rows x 3 columns]"
      ]
     },
     "execution_count": 10,
     "metadata": {},
     "output_type": "execute_result"
    }
   ],
   "source": [
    "resp2 = get_rows_sorted_by_relevance(question2, df)\n",
    "resp2"
   ]
  },
  {
   "cell_type": "code",
   "execution_count": 11,
   "id": "08f3e2c7",
   "metadata": {},
   "outputs": [
    {
     "data": {
      "text/plain": [
       "\"According to data from app analytics group Sensor Tower, advertising on TikTok in the US grew by 11% in March 2023, with companies including Pepsi, DoorDash, Amazon and Apple among the top spenders. According to estimates from research group Insider Intelligence, TikTok is projected to generate $14.15 billion in revenue in 2023, up from $9.89 billion in 2022. In March 2024, The Wall Street Journal reported that TikTok's growth in the U.S. had stagnated.\""
      ]
     },
     "execution_count": 11,
     "metadata": {},
     "output_type": "execute_result"
    }
   ],
   "source": [
    "resp2['text'][27]"
   ]
  },
  {
   "cell_type": "code",
   "execution_count": 12,
   "id": "ca68074d",
   "metadata": {},
   "outputs": [],
   "source": [
    "import tiktoken\n",
    "\n",
    "def create_prompt(question, df, max_token_count):\n",
    "    \"\"\"\n",
    "    Given a question and a dataframe containing rows of text and their\n",
    "    embeddings, return a text prompt to send to a Completion model\n",
    "    \"\"\"\n",
    "    # Create a tokenizer that is designed to align with our embeddings\n",
    "    tokenizer = tiktoken.get_encoding(\"cl100k_base\")\n",
    "    \n",
    "    # Count the number of tokens in the prompt template and question\n",
    "    prompt_template = \"\"\"\n",
    "        Answer the question based on the context below, and if the question\n",
    "        can't be answered based on the context, say \"I don't know\"\n",
    "\n",
    "        Context: \n",
    "\n",
    "        {}\n",
    "\n",
    "        ---\n",
    "\n",
    "        Question: {}\n",
    "        Answer:\"\"\"\n",
    "    \n",
    "    current_token_count = len(tokenizer.encode(prompt_template)) + len(tokenizer.encode(question))\n",
    "    \n",
    "    context = []\n",
    "    for text in get_rows_sorted_by_relevance(question, df)[\"text\"].values:\n",
    "        \n",
    "        # Increase the counter based on the number of tokens in this row\n",
    "        text_token_count = len(tokenizer.encode(text))\n",
    "        current_token_count += text_token_count\n",
    "        \n",
    "        # Add the row of text to the list if we haven't exceeded the max\n",
    "        if current_token_count <= max_token_count:\n",
    "            context.append(text)\n",
    "        else:\n",
    "            break\n",
    "\n",
    "    return prompt_template.format(\"\\n\\n###\\n\\n\".join(context), question)"
   ]
  },
  {
   "cell_type": "code",
   "execution_count": 13,
   "id": "bd7a093b",
   "metadata": {},
   "outputs": [
    {
     "name": "stdout",
     "output_type": "stream",
     "text": [
      "\n",
      "        Answer the question based on the context below, and if the question\n",
      "        can't be answered based on the context, say \"I don't know\"\n",
      "\n",
      "        Context: \n",
      "\n",
      "        In 2023, a trend emerged where streamers acted as if they were video-game characters following prompts from their viewers.\n",
      "\n",
      "###\n",
      "\n",
      "Since its launch, TikTok has become one of the world's most popular social media platforms, using recommendation algorithms to connect content creators with new audiences. Many of its users are young and part of Generation Z. In April 2020, TikTok surpassed two billion mobile downloads worldwide. Cloudflare ranked TikTok the most popular website of 2021, surpassing Google. The popularity of TikTok has allowed viral trends in food and music to take off and increase the platform's cultural impact worldwide.\n",
      "\n",
      "        ---\n",
      "\n",
      "        Question: What is the most popular trend of 2023?\n",
      "        Answer:\n"
     ]
    }
   ],
   "source": [
    "print(create_prompt(question1, df, 200))"
   ]
  },
  {
   "cell_type": "code",
   "execution_count": 14,
   "id": "7ae24b09",
   "metadata": {},
   "outputs": [],
   "source": [
    "COMPLETION_MODEL_NAME = \"gpt-3.5-turbo-instruct\"\n",
    "\n",
    "def answer_question(\n",
    "    question, df, max_prompt_tokens=1800, max_answer_tokens=150\n",
    "):\n",
    "    \"\"\"\n",
    "    Given a question, a dataframe containing rows of text, and a maximum\n",
    "    number of desired tokens in the prompt and response, return the\n",
    "    answer to the question according to an OpenAI Completion model\n",
    "    \n",
    "    If the model produces an error, return an empty string\n",
    "    \"\"\"\n",
    "    \n",
    "    prompt = create_prompt(question, df, max_prompt_tokens)\n",
    "    \n",
    "    try:\n",
    "        response = openai.Completion.create(\n",
    "            model=COMPLETION_MODEL_NAME,\n",
    "            prompt=prompt,\n",
    "            max_tokens=max_answer_tokens\n",
    "        )\n",
    "        return response[\"choices\"][0][\"text\"].strip()\n",
    "    except Exception as e:\n",
    "        print(e)\n",
    "        return \"\"\n",
    "        "
   ]
  },
  {
   "cell_type": "markdown",
   "id": "1783f146",
   "metadata": {},
   "source": [
    "## Custom Performance Demonstration\n",
    "\n",
    "TODO: In the cells below, demonstrate the performance of your custom query using at least 2 questions. For each question, show the answer from a basic `Completion` model query as well as the answer from your custom query."
   ]
  },
  {
   "cell_type": "markdown",
   "id": "4f11fdc0",
   "metadata": {},
   "source": [
    "### Question 1"
   ]
  },
  {
   "cell_type": "code",
   "execution_count": 15,
   "id": "4901c850",
   "metadata": {},
   "outputs": [
    {
     "name": "stdout",
     "output_type": "stream",
     "text": [
      "It is impossible to accurately predict the most popular trend of 2023 as trends are constantly evolving and can change quickly. It will largely depend on the societal, cultural, and technological developments in the coming years.\n"
     ]
    }
   ],
   "source": [
    "prompt1 = \"\"\"\n",
    "Question: \"What is the most popular trend of 2023?\"\n",
    "Answer:\n",
    "\"\"\"\n",
    "initial_answer1 = openai.Completion.create(\n",
    "    model=\"gpt-3.5-turbo-instruct\",\n",
    "    prompt=prompt1,\n",
    "    max_tokens=150\n",
    ")\n",
    "\n",
    "initial_answer1 = initial_answer1[\"choices\"][0][\"text\"].strip()\n",
    "print(initial_answer1)"
   ]
  },
  {
   "cell_type": "code",
   "execution_count": 16,
   "id": "a5e8ea91",
   "metadata": {},
   "outputs": [
    {
     "name": "stdout",
     "output_type": "stream",
     "text": [
      "Acting as video-game characters and following prompts from viewers as a streamer on TikTok.\n"
     ]
    }
   ],
   "source": [
    "custom_answer1 = answer_question(question1, df)\n",
    "print(custom_answer1)"
   ]
  },
  {
   "cell_type": "markdown",
   "id": "6e86e37c",
   "metadata": {},
   "source": [
    "### Question 2"
   ]
  },
  {
   "cell_type": "code",
   "execution_count": 17,
   "id": "6f646989",
   "metadata": {},
   "outputs": [
    {
     "name": "stdout",
     "output_type": "stream",
     "text": [
      "It is not possible to accurately predict the revenue of TikTok in 2023 as it will depend on various factors such as user growth, advertising revenue, competition, and market trends. Additionally, TikTok has not released any projections for their revenue in 2023.\n"
     ]
    }
   ],
   "source": [
    "prompt2 = \"\"\"\n",
    "Question: \"What is the revenue of TikTok in 2023?\"\n",
    "Answer:\n",
    "\"\"\"\n",
    "initial_answer2 = openai.Completion.create(\n",
    "    model=\"gpt-3.5-turbo-instruct\",\n",
    "    prompt=prompt2,\n",
    "    max_tokens=150\n",
    ")\n",
    "\n",
    "initial_answer2 = initial_answer2[\"choices\"][0][\"text\"].strip()\n",
    "print(initial_answer2)"
   ]
  },
  {
   "cell_type": "code",
   "execution_count": 18,
   "id": "11c07a54",
   "metadata": {},
   "outputs": [
    {
     "name": "stdout",
     "output_type": "stream",
     "text": [
      "$14.15 billion\n"
     ]
    }
   ],
   "source": [
    "custom_answer2 = answer_question(question2, df)\n",
    "print(custom_answer2)"
   ]
  },
  {
   "cell_type": "code",
   "execution_count": null,
   "id": "36b930e8",
   "metadata": {},
   "outputs": [],
   "source": []
  }
 ],
 "metadata": {
  "kernelspec": {
   "display_name": "Python 3 (ipykernel)",
   "language": "python",
   "name": "python3"
  },
  "language_info": {
   "codemirror_mode": {
    "name": "ipython",
    "version": 3
   },
   "file_extension": ".py",
   "mimetype": "text/x-python",
   "name": "python",
   "nbconvert_exporter": "python",
   "pygments_lexer": "ipython3",
   "version": "3.9.18"
  }
 },
 "nbformat": 4,
 "nbformat_minor": 5
}
