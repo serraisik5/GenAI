{
 "cells": [
  {
   "cell_type": "markdown",
   "id": "a108af04",
   "metadata": {},
   "source": [
    "This is a starter notebook for the project, you'll have to import the libraries you'll need, you can find a list of the ones available in this workspace in the requirements.txt file in this workspace. "
   ]
  },
  {
   "cell_type": "code",
   "execution_count": 1,
   "id": "f8c410d0",
   "metadata": {},
   "outputs": [
    {
     "name": "stdout",
     "output_type": "stream",
     "text": [
      "Defaulting to user installation because normal site-packages is not writeable\n",
      "Collecting pandas\n",
      "  Downloading pandas-2.2.2-cp310-cp310-manylinux_2_17_x86_64.manylinux2014_x86_64.whl (13.0 MB)\n",
      "\u001b[2K     \u001b[90m━━━━━━━━━━━━━━━━━━━━━━━━━━━━━━━━━━━━━━━━\u001b[0m \u001b[32m13.0/13.0 MB\u001b[0m \u001b[31m59.6 MB/s\u001b[0m eta \u001b[36m0:00:00\u001b[0m00:01\u001b[0m00:01\u001b[0m\n",
      "\u001b[?25hRequirement already satisfied: python-dateutil>=2.8.2 in /opt/conda/lib/python3.10/site-packages (from pandas) (2.9.0.post0)\n",
      "Requirement already satisfied: numpy>=1.22.4 in /opt/conda/lib/python3.10/site-packages (from pandas) (1.24.3)\n",
      "Requirement already satisfied: pytz>=2020.1 in /opt/conda/lib/python3.10/site-packages (from pandas) (2022.7)\n",
      "Collecting tzdata>=2022.7\n",
      "  Downloading tzdata-2024.1-py2.py3-none-any.whl (345 kB)\n",
      "\u001b[2K     \u001b[90m━━━━━━━━━━━━━━━━━━━━━━━━━━━━━━━━━━━━━━\u001b[0m \u001b[32m345.4/345.4 kB\u001b[0m \u001b[31m29.0 MB/s\u001b[0m eta \u001b[36m0:00:00\u001b[0m\n",
      "\u001b[?25hRequirement already satisfied: six>=1.5 in /opt/conda/lib/python3.10/site-packages (from python-dateutil>=2.8.2->pandas) (1.16.0)\n",
      "Installing collected packages: tzdata, pandas\n",
      "Successfully installed pandas-2.2.2 tzdata-2024.1\n",
      "Defaulting to user installation because normal site-packages is not writeable\n",
      "Collecting lancedb\n",
      "  Downloading lancedb-0.10.2-cp38-abi3-manylinux_2_28_x86_64.whl (21.0 MB)\n",
      "\u001b[2K     \u001b[90m━━━━━━━━━━━━━━━━━━━━━━━━━━━━━━━━━━━━━━━━\u001b[0m \u001b[32m21.0/21.0 MB\u001b[0m \u001b[31m49.4 MB/s\u001b[0m eta \u001b[36m0:00:00\u001b[0m00:01\u001b[0m00:01\u001b[0m\n",
      "\u001b[?25hCollecting retry>=0.9.2\n",
      "  Downloading retry-0.9.2-py2.py3-none-any.whl (8.0 kB)\n",
      "Collecting pylance==0.14.1\n",
      "  Downloading pylance-0.14.1-cp39-abi3-manylinux_2_28_x86_64.whl (25.7 MB)\n",
      "\u001b[2K     \u001b[90m━━━━━━━━━━━━━━━━━━━━━━━━━━━━━━━━━━━━━━━━\u001b[0m \u001b[32m25.7/25.7 MB\u001b[0m \u001b[31m49.4 MB/s\u001b[0m eta \u001b[36m0:00:00\u001b[0m00:01\u001b[0m00:01\u001b[0m\n",
      "\u001b[?25hRequirement already satisfied: tqdm>=4.27.0 in /opt/conda/lib/python3.10/site-packages (from lancedb) (4.65.0)\n",
      "Collecting cachetools\n",
      "  Downloading cachetools-5.4.0-py3-none-any.whl (9.5 kB)\n",
      "Collecting ratelimiter~=1.0\n",
      "  Downloading ratelimiter-1.2.0.post0-py3-none-any.whl (6.6 kB)\n",
      "Requirement already satisfied: attrs>=21.3.0 in /opt/conda/lib/python3.10/site-packages (from lancedb) (23.1.0)\n",
      "Requirement already satisfied: overrides>=0.7 in /opt/conda/lib/python3.10/site-packages (from lancedb) (7.7.0)\n",
      "Requirement already satisfied: pydantic>=1.10 in /opt/conda/lib/python3.10/site-packages (from lancedb) (1.10.12)\n",
      "Collecting requests>=2.31.0\n",
      "  Downloading requests-2.32.3-py3-none-any.whl (64 kB)\n",
      "\u001b[2K     \u001b[90m━━━━━━━━━━━━━━━━━━━━━━━━━━━━━━━━━━━━━━━━\u001b[0m \u001b[32m64.9/64.9 kB\u001b[0m \u001b[31m8.3 MB/s\u001b[0m eta \u001b[36m0:00:00\u001b[0m\n",
      "\u001b[?25hRequirement already satisfied: packaging in /opt/conda/lib/python3.10/site-packages (from lancedb) (23.0)\n",
      "Collecting deprecation\n",
      "  Downloading deprecation-2.1.0-py2.py3-none-any.whl (11 kB)\n",
      "Collecting pyarrow<15.0.1,>=12\n",
      "  Downloading pyarrow-15.0.0-cp310-cp310-manylinux_2_28_x86_64.whl (38.3 MB)\n",
      "\u001b[2K     \u001b[90m━━━━━━━━━━━━━━━━━━━━━━━━━━━━━━━━━━━━━━━━\u001b[0m \u001b[32m38.3/38.3 MB\u001b[0m \u001b[31m33.5 MB/s\u001b[0m eta \u001b[36m0:00:00\u001b[0m00:01\u001b[0m00:01\u001b[0m\n",
      "\u001b[?25hRequirement already satisfied: numpy>=1.22 in /opt/conda/lib/python3.10/site-packages (from pylance==0.14.1->lancedb) (1.24.3)\n",
      "Requirement already satisfied: typing-extensions>=4.2.0 in /opt/conda/lib/python3.10/site-packages (from pydantic>=1.10->lancedb) (4.11.0)\n",
      "Requirement already satisfied: certifi>=2017.4.17 in /opt/conda/lib/python3.10/site-packages (from requests>=2.31.0->lancedb) (2023.5.7)\n",
      "Requirement already satisfied: charset-normalizer<4,>=2 in /opt/conda/lib/python3.10/site-packages (from requests>=2.31.0->lancedb) (2.0.4)\n",
      "Requirement already satisfied: idna<4,>=2.5 in /opt/conda/lib/python3.10/site-packages (from requests>=2.31.0->lancedb) (3.4)\n",
      "Requirement already satisfied: urllib3<3,>=1.21.1 in /opt/conda/lib/python3.10/site-packages (from requests>=2.31.0->lancedb) (1.26.15)\n",
      "Collecting py<2.0.0,>=1.4.26\n",
      "  Downloading py-1.11.0-py2.py3-none-any.whl (98 kB)\n",
      "\u001b[2K     \u001b[90m━━━━━━━━━━━━━━━━━━━━━━━━━━━━━━━━━━━━━━━━\u001b[0m \u001b[32m98.7/98.7 kB\u001b[0m \u001b[31m14.8 MB/s\u001b[0m eta \u001b[36m0:00:00\u001b[0m\n",
      "\u001b[?25hRequirement already satisfied: decorator>=3.4.2 in /opt/conda/lib/python3.10/site-packages (from retry>=0.9.2->lancedb) (5.1.1)\n",
      "Installing collected packages: ratelimiter, requests, pyarrow, py, deprecation, cachetools, retry, pylance, lancedb\n",
      "Successfully installed cachetools-5.4.0 deprecation-2.1.0 lancedb-0.10.2 py-1.11.0 pyarrow-15.0.0 pylance-0.14.1 ratelimiter-1.2.0.post0 requests-2.32.3 retry-0.9.2\n",
      "\u001b[33m  WARNING: The script huggingface-cli is installed in '/home/student/.local/bin' which is not on PATH.\n",
      "  Consider adding this directory to PATH or, if you prefer to suppress this warning, use --no-warn-script-location.\u001b[0m\u001b[33m\n",
      "\u001b[0m\u001b[33m  WARNING: The script transformers-cli is installed in '/home/student/.local/bin' which is not on PATH.\n",
      "  Consider adding this directory to PATH or, if you prefer to suppress this warning, use --no-warn-script-location.\u001b[0m\u001b[33m\n",
      "\u001b[0mDefaulting to user installation because normal site-packages is not writeable\n",
      "Collecting openpyxl\n",
      "  Downloading openpyxl-3.1.5-py2.py3-none-any.whl (250 kB)\n",
      "\u001b[2K     \u001b[90m━━━━━━━━━━━━━━━━━━━━━━━━━━━━━━━━━━━━━━━\u001b[0m \u001b[32m250.9/250.9 kB\u001b[0m \u001b[31m1.5 MB/s\u001b[0m eta \u001b[36m0:00:00\u001b[0m00:01\u001b[0m00:01\u001b[0m\n",
      "\u001b[?25hCollecting et-xmlfile\n",
      "  Downloading et_xmlfile-1.1.0-py3-none-any.whl (4.7 kB)\n",
      "Installing collected packages: et-xmlfile, openpyxl\n",
      "Successfully installed et-xmlfile-1.1.0 openpyxl-3.1.5\n",
      "Defaulting to user installation because normal site-packages is not writeable\n",
      "Requirement already satisfied: ipywidgets in /opt/conda/lib/python3.10/site-packages (8.1.2)\n",
      "Requirement already satisfied: widgetsnbextension~=4.0.10 in /opt/conda/lib/python3.10/site-packages (from ipywidgets) (4.0.10)\n",
      "Requirement already satisfied: ipython>=6.1.0 in /opt/conda/lib/python3.10/site-packages (from ipywidgets) (8.12.0)\n",
      "Requirement already satisfied: comm>=0.1.3 in /opt/conda/lib/python3.10/site-packages (from ipywidgets) (0.2.2)\n",
      "Requirement already satisfied: jupyterlab-widgets~=3.0.10 in /opt/conda/lib/python3.10/site-packages (from ipywidgets) (3.0.10)\n",
      "Requirement already satisfied: traitlets>=4.3.1 in /opt/conda/lib/python3.10/site-packages (from ipywidgets) (5.7.1)\n",
      "Requirement already satisfied: decorator in /opt/conda/lib/python3.10/site-packages (from ipython>=6.1.0->ipywidgets) (5.1.1)\n",
      "Requirement already satisfied: backcall in /opt/conda/lib/python3.10/site-packages (from ipython>=6.1.0->ipywidgets) (0.2.0)\n",
      "Requirement already satisfied: pickleshare in /opt/conda/lib/python3.10/site-packages (from ipython>=6.1.0->ipywidgets) (0.7.5)\n",
      "Requirement already satisfied: stack-data in /opt/conda/lib/python3.10/site-packages (from ipython>=6.1.0->ipywidgets) (0.2.0)\n",
      "Requirement already satisfied: jedi>=0.16 in /opt/conda/lib/python3.10/site-packages (from ipython>=6.1.0->ipywidgets) (0.18.1)\n",
      "Requirement already satisfied: pygments>=2.4.0 in /opt/conda/lib/python3.10/site-packages (from ipython>=6.1.0->ipywidgets) (2.15.1)\n",
      "Requirement already satisfied: pexpect>4.3 in /opt/conda/lib/python3.10/site-packages (from ipython>=6.1.0->ipywidgets) (4.8.0)\n",
      "Requirement already satisfied: matplotlib-inline in /opt/conda/lib/python3.10/site-packages (from ipython>=6.1.0->ipywidgets) (0.1.6)\n",
      "Requirement already satisfied: prompt-toolkit!=3.0.37,<3.1.0,>=3.0.30 in /opt/conda/lib/python3.10/site-packages (from ipython>=6.1.0->ipywidgets) (3.0.36)\n",
      "Requirement already satisfied: parso<0.9.0,>=0.8.0 in /opt/conda/lib/python3.10/site-packages (from jedi>=0.16->ipython>=6.1.0->ipywidgets) (0.8.3)\n",
      "Requirement already satisfied: ptyprocess>=0.5 in /opt/conda/lib/python3.10/site-packages (from pexpect>4.3->ipython>=6.1.0->ipywidgets) (0.7.0)\n",
      "Requirement already satisfied: wcwidth in /opt/conda/lib/python3.10/site-packages (from prompt-toolkit!=3.0.37,<3.1.0,>=3.0.30->ipython>=6.1.0->ipywidgets) (0.2.5)\n",
      "Requirement already satisfied: asttokens in /opt/conda/lib/python3.10/site-packages (from stack-data->ipython>=6.1.0->ipywidgets) (2.0.5)\n",
      "Requirement already satisfied: pure-eval in /opt/conda/lib/python3.10/site-packages (from stack-data->ipython>=6.1.0->ipywidgets) (0.2.2)\n",
      "Requirement already satisfied: executing in /opt/conda/lib/python3.10/site-packages (from stack-data->ipython>=6.1.0->ipywidgets) (0.8.3)\n"
     ]
    },
    {
     "name": "stdout",
     "output_type": "stream",
     "text": [
      "Requirement already satisfied: six in /opt/conda/lib/python3.10/site-packages (from asttokens->stack-data->ipython>=6.1.0->ipywidgets) (1.16.0)\r\n"
     ]
    }
   ],
   "source": [
    "!pip install pandas\n",
    "!pip install lancedb\n",
    "!pip install -U --quiet sentence-transformers\n",
    "!pip install openpyxl\n",
    "!pip install ipywidgets"
   ]
  },
  {
   "cell_type": "code",
   "execution_count": 1,
   "id": "6554fd4c",
   "metadata": {},
   "outputs": [],
   "source": [
    "import pandas as pd\n",
    "import re\n",
    "\n",
    "import os\n",
    "\n",
    "os.environ[\"OPENAI_API_KEY\"] = \"voc-76835233612667733741246693c5e229dc21.94804767\"\n",
    "os.environ[\"OPENAI_API_BASE\"] = \"https://openai.vocareum.com/v1\"\n",
    "\n",
    "from langchain.llms import OpenAI\n",
    "import openai"
   ]
  },
  {
   "cell_type": "markdown",
   "id": "de6db14f",
   "metadata": {},
   "source": [
    "## Generate Real Estate Data"
   ]
  },
  {
   "cell_type": "code",
   "execution_count": 2,
   "id": "3fccb19b",
   "metadata": {},
   "outputs": [],
   "source": [
    "user_prompt = f\"List at least 15 real estate properties.\""
   ]
  },
  {
   "cell_type": "code",
   "execution_count": 3,
   "id": "d86eb30b",
   "metadata": {},
   "outputs": [
    {
     "data": {
      "text/plain": [
       "'Property 1:\\nNeighborhood: Willow Creek\\nPrice: $500,000\\nBedrooms: 2\\nBathrooms: 1\\nHouse Size: 1,200 sqft\\nDescription: Cozy 2-bedroom, 1-bathroom home in the desirable Willow Creek neighborhood. This charming house features a spacious living room, updated kitchen with stainless steel appliances, and a backyard perfect for entertaining. Enjoy the peaceful surroundings and close proximity to Willow Creek Park.\\nNeighborhood Description: Willow Creek is known for its family-friendly atmosphere, tree-lined streets, and top-rated schools. Residents can enjoy outdoor activities at the nearby parks, as well as shopping and dining options in the quaint downtown area.\\n\\nProperty 2:\\nNeighborhood: Oakridge Estates\\nPrice: $750,000\\nBedrooms: 4\\nBathrooms: 3\\nHouse Size: 2,800 sqft\\nDescription: Stunning 4-bedroom, 3-bathroom home in the prestigious Oakridge Estates. This beautifully renovated house features a gourmet kitchen, luxurious master suite, and a spacious backyard with a pool. Perfect for those who love to entertain or simply relax in style.\\nNeighborhood Description: Oakridge Estates is known for its upscale homes, large lots, and manicured landscaping. Residents can enjoy the privacy and serenity of the neighborhood while still being close to shopping centers, fine dining restaurants, and top-rated schools.\\n\\nProperty 3:\\nNeighborhood: Pinecrest Heights\\nPrice: $600,000\\nBedrooms: 3\\nBathrooms: 2.5\\nHouse Size: 2,400 sqft\\nDescription: Welcome to this lovely 3-bedroom, 2.5-bathroom home in the scenic Pinecrest Heights neighborhood. This two-story house features a bright and airy living room, updated kitchen, and a beautiful backyard with mountain views. The perfect retreat for nature lovers.\\nNeighborhood Description: Pinecrest Heights offers a peaceful mountain setting with hiking trails, nature reserves, and stunning views. Residents can enjoy a sense of seclusion while still being just a short drive away from downtown amenities and recreational facilities.\\n\\nProperty 4:\\nNeighborhood: River Oaks\\nPrice: $1,200,000\\nBedrooms: 5\\nBathrooms: 4\\nHouse Size: 3,500 sqft\\nDescription: Immaculate 5-bedroom, 4-bathroom home in the exclusive River Oaks neighborhood. This upscale house boasts high-end finishes, a gourmet kitchen, spacious bedrooms, and a landscaped backyard with a built-in BBQ area. Luxury living at its finest.\\nNeighborhood Description: River Oaks is known for its luxury real estate, gated communities, and waterfront properties. Residents can enjoy private boat docks, yacht clubs, and upscale shopping options in this prestigious neighborhood.\\n\\nProperty 5:\\nNeighborhood: Sunset Hills\\nPrice: $900,000\\nBedrooms: 4\\nBathrooms: 3.5\\nHouse Size: 3,000 sqft\\nDescription: Elegant 4-bedroom, 3.5-bathroom home in the sought-after Sunset Hills neighborhood. This spacious two-story house features a grand foyer, formal dining room, home office, and a lush backyard with a spa. Perfect for those who appreciate luxury and comfort.\\nNeighborhood Description: Sunset Hills offers a blend of luxury living and natural beauty, with sprawling estates, rolling hills, and panoramic views. Residents can enjoy outdoor activities at the nearby country club, as well as upscale dining options and boutique shops in the charming downtown area.\\n\\nProperty 6:\\nNeighborhood: Lakeside Manor\\nPrice: $650,000\\nBedrooms: 3\\nBathrooms: 2.5\\nHouse Size: 2,200 sqft\\nDescription: Charming 3-bedroom, 2.5-bathroom home in the serene Lakeside Manor neighborhood. This well-maintained house features a cozy fireplace, updated kitchen with granite countertops, and a private backyard with a deck overlooking the lake. Perfect for those seeking tranquility.\\nNeighborhood Description: Lakeside Manor is a picturesque waterfront community with access to boating, fishing, and scenic walking trails. Residents can enjoy the peaceful surroundings and stunning lake views while being just a short drive away from shopping centers and entertainment venues.\\n\\nProperty 7:\\nNeighborhood: Maple Grove\\nPrice: $550,000\\nBedrooms: 3\\nBathrooms: 2\\nHouse Size: 1,800 sqft\\nDescription: Welcome to this charming 3-bedroom, 2-bathroom home in the desirable Maple Grove neighborhood. This single-story house features a bright and open floor plan, vaulted ceilings, and a spacious backyard with a fruit tree orchard. Ideal for first-time homebuyers or downsizing retirees.\\nNeighborhood Description: Maple Grove is known for its quiet streets, community parks, and friendly neighbors. Residents can enjoy outdoor picnics, farmers markets, and local events in this family-friendly neighborhood with a strong sense of community.\\n\\nProperty 8:\\nNeighborhood: Mountain View Terrace\\nPrice: $700,000\\nBedrooms: 4\\nBathrooms: 3\\nHouse Size: 2,500 sqft\\nDescription: Spacious 4-bedroom, 3-bathroom home with picturesque mountain views in the desirable Mountain View Terrace neighborhood. This contemporary house features a gourmet kitchen, luxurious master suite, and a landscaped backyard with a fire pit. Perfect for those who love outdoor living.\\nNeighborhood Description: Mountain View Terrace offers a peaceful escape from the city with its scenic mountain vistas, hiking trails, and abundance of wildlife. Residents can enjoy the fresh mountain air and starlit nights while still being just a short drive away from downtown amenities and cultural attractions.\\n\\nProperty 9:\\nNeighborhood: Parkside Meadows\\nPrice: $680,000\\nBedrooms: 3\\nBathrooms: 2.5\\nHouse Size: 2,300 sqft\\nDescription: Modern 3-bedroom, 2.5-bathroom home in the scenic Parkside Meadows neighborhood. This energy-efficient house features solar panels, smart home technology, and a landscaped backyard with a vegetable garden. Ideal for eco-conscious buyers looking for a sustainable lifestyle.\\nNeighborhood Description: Parkside Meadows is a green community with access to parks, nature reserves, and walking paths. Residents can enjoy a healthy and active lifestyle with opportunities for outdoor recreation, community gardening, and environmental education in this environmentally-friendly neighborhood.\\n\\nProperty 10:\\nNeighborhood: Cedar Ridge Estates\\nPrice: $850,000\\nBedrooms: 4\\nBathrooms: 3.5\\nHouse Size: 3,200 sqft\\nDescription: Luxurious 4-bedroom, 3.5-bathroom home in the prestigious Cedar Ridge Estates. This custom-built house features high ceilings, hardwood floors, a gourmet kitchen with top-of-the-line appliances, and a private backyard oasis with a pool and spa. Perfect for those who appreciate sophistication and elegance.\\nNeighborhood Description: Cedar Ridge Estates is an upscale gated community known for its luxury homes, manicured landscaping, and exclusive amenities. Residents can enjoy a sense of privacy and security while still being just a short drive away from shopping centers, golf courses, and fine dining restaurants.\\n\\nProperty 11:\\nNeighborhood: Rosewood Hills\\nPrice: $720,000\\nBedrooms: 3\\nBathrooms: 2.5\\nHouse Size: 2,400 sqft\\nDescription: Welcome to this charming 3-bedroom, 2.5-bathroom home in the tranquil Rosewood Hills neighborhood. This two-story house features a cozy fireplace, updated kitchen, and a fenced backyard with a gazebo. Perfect for those seeking a peaceful retreat.\\nNeighborhood Description: Rosewood Hills is a quiet residential area with tree-lined streets, community parks, and walking trails. Residents can enjoy a relaxed pace of life and a strong sense of community in this family-friendly neighborhood with excellent schools and recreational facilities.\\n\\nProperty 12:\\nNeighborhood: Sunflower Grove\\nPrice: $590,000\\nBedrooms: 3\\nBathrooms: 2\\nHouse Size: 1,900 sqft\\nDescription: Quaint 3-bedroom, 2-bathroom home in the friendly Sunflower Grove neighborhood. This single-story house features an open floor plan, vaulted ceilings, and a private backyard with a covered patio. Ideal for those looking for a cozy and welcoming home.\\nNeighborhood Description: Sunflower Grove is a tight-knit community with a small-town feel, community events, and local cafes. Residents can enjoy the convenience of nearby shopping centers, schools, and parks, as well as easy access to highways for commuting to work or exploring the surrounding areas.\\n\\nProperty 13:\\nNeighborhood: Willowbrook Heights\\nPrice: $780,000\\nBedrooms: 4\\nBathrooms: 3\\nHouse Size: 2,600 sqft\\nDescription: Spacious 4-bedroom, 3-bathroom home in the scenic Willowbrook Heights neighborhood. This two-story house features a modern kitchen, elegant master suite, and a large backyard with a deck for outdoor gatherings. Perfect for families or those who love to entertain.\\nNeighborhood Description: Willowbrook Heights offers a peaceful suburban setting with tree-lined streets, community pools, and walking trails. Residents can enjoy the tranquility of the neighborhood while still being just a short drive away from shopping centers, restaurants, and entertainment venues.\\n\\nProperty 14:\\nNeighborhood: Oakwood Estates\\nPrice: $950,000\\nBedrooms: 5\\nBathrooms: 4.5\\nHouse Size: 3,500 sqft\\nDescription: Stunning 5-bedroom, 4.5-bathroom home in the prestigious Oakwood Estates. This custom-designed house features a grand foyer, formal living room, home theater, and a resort-style backyard with a pool and spa. Perfect for those who appreciate luxury living.\\nNeighborhood Description: Oakwood Estates is an exclusive gated community known for its grand estates, lush landscaping, and private amenities. Residents can enjoy a luxurious lifestyle with access to golf courses, country clubs, and upscale shopping options in this upscale neighborhood.\\n\\nProperty 15:\\nNeighborhood: Willow Glen\\nPrice: $620,000\\nBedrooms: 3\\nBathrooms: 2\\nHouse Size: 2,000 sqft\\nDescription: Welcome to this charming 3-bedroom, 2-bathroom home in the desirable Willow Glen neighborhood. This single-story house features a remodeled kitchen, hardwood floors, and a spacious backyard with a deck for outdoor dining. Ideal for those seeking a cozy and inviting home.\\nNeighborhood Description: Willow Glen is a vibrant neighborhood with tree-lined streets, boutique shops, and a bustling downtown district. Residents can enjoy an array of dining options, local farmers markets, and community events in this lively and diverse neighborhood with a strong sense of community.'"
      ]
     },
     "execution_count": 3,
     "metadata": {},
     "output_type": "execute_result"
    }
   ],
   "source": [
    "response = openai.ChatCompletion.create(\n",
    "          model=\"gpt-3.5-turbo\",\n",
    "          messages=[\n",
    "          {\n",
    "            \"role\": \"system\",\n",
    "            \"content\": \"\"\"Your goal is to generate realistic real estate listings that includes neighborhood, price, \n",
    "            bedroom count, bathroom count, house size, description of the house and neighborhood description.\n",
    "              \n",
    "            Example: \n",
    "            Property1:\n",
    "            Neighborhood: Green Oaks\n",
    "            Price: $800,000\n",
    "            Bedrooms: 3\n",
    "            Bathrooms: 2\n",
    "            House Size: 2,000 sqft\n",
    "            Description: Welcome to this eco-friendly oasis nestled in the heart of Green Oaks. This charming 3-bedroom, 2-bathroom home boasts energy-efficient features such as solar panels and a well-insulated structure. Natural light floods the living spaces, highlighting the beautiful hardwood floors and eco-conscious finishes. The open-concept kitchen and dining area lead to a spacious backyard with a vegetable garden, perfect for the eco-conscious family. Embrace sustainable living without compromising on style in this Green Oaks gem.\n",
    "            Neighborhood Description: Green Oaks is a close-knit, environmentally-conscious community with access to organic grocery stores, community gardens, and bike paths. Take a stroll through the nearby Green Oaks Park or grab a cup of coffee at the cozy Green Bean Cafe. With easy access to public transportation and bike lanes, commuting is a breeze.\n",
    "              \"\"\"\n",
    "          },\n",
    "          {\n",
    "            \"role\": \"user\",\n",
    "            \"content\": user_prompt\n",
    "          }\n",
    "          ],\n",
    "        temperature=1,\n",
    "        #max_tokens=10000,\n",
    "        top_p=1,\n",
    "        frequency_penalty=0,\n",
    "        presence_penalty=0\n",
    "        )\n",
    "# The response is a JSON object containing more information than the response. We want to return only the message content\n",
    "#print(response)\n",
    "home_list= response.choices[0].message.content\n",
    "\n",
    "home_list"
   ]
  },
  {
   "cell_type": "code",
   "execution_count": 4,
   "id": "50566e1c",
   "metadata": {},
   "outputs": [],
   "source": [
    "with open(\"./listings.txt\", 'w') as file:\n",
    "        file.write(home_list)"
   ]
  },
  {
   "cell_type": "code",
   "execution_count": 5,
   "id": "6d5f6b4b",
   "metadata": {},
   "outputs": [],
   "source": [
    "with open(\"./listings.txt\", 'r') as file:\n",
    "        homes_list =  file.read()"
   ]
  },
  {
   "cell_type": "code",
   "execution_count": 6,
   "id": "90755d57",
   "metadata": {},
   "outputs": [
    {
     "data": {
      "text/html": [
       "<div>\n",
       "<style scoped>\n",
       "    .dataframe tbody tr th:only-of-type {\n",
       "        vertical-align: middle;\n",
       "    }\n",
       "\n",
       "    .dataframe tbody tr th {\n",
       "        vertical-align: top;\n",
       "    }\n",
       "\n",
       "    .dataframe thead th {\n",
       "        text-align: right;\n",
       "    }\n",
       "</style>\n",
       "<table border=\"1\" class=\"dataframe\">\n",
       "  <thead>\n",
       "    <tr style=\"text-align: right;\">\n",
       "      <th></th>\n",
       "      <th>Neighborhood</th>\n",
       "      <th>Price</th>\n",
       "      <th>Bedrooms</th>\n",
       "      <th>Bathrooms</th>\n",
       "      <th>House Size</th>\n",
       "      <th>Description</th>\n",
       "      <th>Neighborhood Description</th>\n",
       "    </tr>\n",
       "  </thead>\n",
       "  <tbody>\n",
       "    <tr>\n",
       "      <th>0</th>\n",
       "      <td>Willow Creek</td>\n",
       "      <td>500000.0</td>\n",
       "      <td>2</td>\n",
       "      <td>1.0</td>\n",
       "      <td>1200.0</td>\n",
       "      <td>Cozy 2-bedroom, 1-bathroom home in the desirab...</td>\n",
       "      <td>Willow Creek is known for its family-friendly ...</td>\n",
       "    </tr>\n",
       "    <tr>\n",
       "      <th>1</th>\n",
       "      <td>Oakridge Estates</td>\n",
       "      <td>750000.0</td>\n",
       "      <td>4</td>\n",
       "      <td>3.0</td>\n",
       "      <td>2800.0</td>\n",
       "      <td>Stunning 4-bedroom, 3-bathroom home in the pre...</td>\n",
       "      <td>Oakridge Estates is known for its upscale home...</td>\n",
       "    </tr>\n",
       "    <tr>\n",
       "      <th>2</th>\n",
       "      <td>Pinecrest Heights</td>\n",
       "      <td>600000.0</td>\n",
       "      <td>3</td>\n",
       "      <td>2.5</td>\n",
       "      <td>2400.0</td>\n",
       "      <td>Welcome to this lovely 3-bedroom, 2.5-bathroom...</td>\n",
       "      <td>Pinecrest Heights offers a peaceful mountain s...</td>\n",
       "    </tr>\n",
       "    <tr>\n",
       "      <th>3</th>\n",
       "      <td>River Oaks</td>\n",
       "      <td>1200000.0</td>\n",
       "      <td>5</td>\n",
       "      <td>4.0</td>\n",
       "      <td>3500.0</td>\n",
       "      <td>Immaculate 5-bedroom, 4-bathroom home in the e...</td>\n",
       "      <td>River Oaks is known for its luxury real estate...</td>\n",
       "    </tr>\n",
       "    <tr>\n",
       "      <th>4</th>\n",
       "      <td>Sunset Hills</td>\n",
       "      <td>900000.0</td>\n",
       "      <td>4</td>\n",
       "      <td>3.5</td>\n",
       "      <td>3000.0</td>\n",
       "      <td>Elegant 4-bedroom, 3.5-bathroom home in the so...</td>\n",
       "      <td>Sunset Hills offers a blend of luxury living a...</td>\n",
       "    </tr>\n",
       "    <tr>\n",
       "      <th>5</th>\n",
       "      <td>Lakeside Manor</td>\n",
       "      <td>650000.0</td>\n",
       "      <td>3</td>\n",
       "      <td>2.5</td>\n",
       "      <td>2200.0</td>\n",
       "      <td>Charming 3-bedroom, 2.5-bathroom home in the s...</td>\n",
       "      <td>Lakeside Manor is a picturesque waterfront com...</td>\n",
       "    </tr>\n",
       "    <tr>\n",
       "      <th>6</th>\n",
       "      <td>Maple Grove</td>\n",
       "      <td>550000.0</td>\n",
       "      <td>3</td>\n",
       "      <td>2.0</td>\n",
       "      <td>1800.0</td>\n",
       "      <td>Welcome to this charming 3-bedroom, 2-bathroom...</td>\n",
       "      <td>Maple Grove is known for its quiet streets, co...</td>\n",
       "    </tr>\n",
       "    <tr>\n",
       "      <th>7</th>\n",
       "      <td>Mountain View Terrace</td>\n",
       "      <td>700000.0</td>\n",
       "      <td>4</td>\n",
       "      <td>3.0</td>\n",
       "      <td>2500.0</td>\n",
       "      <td>Spacious 4-bedroom, 3-bathroom home with pictu...</td>\n",
       "      <td>Mountain View Terrace offers a peaceful escape...</td>\n",
       "    </tr>\n",
       "    <tr>\n",
       "      <th>8</th>\n",
       "      <td>Parkside Meadows</td>\n",
       "      <td>680000.0</td>\n",
       "      <td>3</td>\n",
       "      <td>2.5</td>\n",
       "      <td>2300.0</td>\n",
       "      <td>Modern 3-bedroom, 2.5-bathroom home in the sce...</td>\n",
       "      <td>Parkside Meadows is a green community with acc...</td>\n",
       "    </tr>\n",
       "    <tr>\n",
       "      <th>9</th>\n",
       "      <td>Cedar Ridge Estates</td>\n",
       "      <td>850000.0</td>\n",
       "      <td>4</td>\n",
       "      <td>3.5</td>\n",
       "      <td>3200.0</td>\n",
       "      <td>Luxurious 4-bedroom, 3.5-bathroom home in the ...</td>\n",
       "      <td>Cedar Ridge Estates is an upscale gated commun...</td>\n",
       "    </tr>\n",
       "    <tr>\n",
       "      <th>10</th>\n",
       "      <td>Rosewood Hills</td>\n",
       "      <td>720000.0</td>\n",
       "      <td>3</td>\n",
       "      <td>2.5</td>\n",
       "      <td>2400.0</td>\n",
       "      <td>Welcome to this charming 3-bedroom, 2.5-bathro...</td>\n",
       "      <td>Rosewood Hills is a quiet residential area wit...</td>\n",
       "    </tr>\n",
       "    <tr>\n",
       "      <th>11</th>\n",
       "      <td>Sunflower Grove</td>\n",
       "      <td>590000.0</td>\n",
       "      <td>3</td>\n",
       "      <td>2.0</td>\n",
       "      <td>1900.0</td>\n",
       "      <td>Quaint 3-bedroom, 2-bathroom home in the frien...</td>\n",
       "      <td>Sunflower Grove is a tight-knit community with...</td>\n",
       "    </tr>\n",
       "    <tr>\n",
       "      <th>12</th>\n",
       "      <td>Willowbrook Heights</td>\n",
       "      <td>780000.0</td>\n",
       "      <td>4</td>\n",
       "      <td>3.0</td>\n",
       "      <td>2600.0</td>\n",
       "      <td>Spacious 4-bedroom, 3-bathroom home in the sce...</td>\n",
       "      <td>Willowbrook Heights offers a peaceful suburban...</td>\n",
       "    </tr>\n",
       "    <tr>\n",
       "      <th>13</th>\n",
       "      <td>Oakwood Estates</td>\n",
       "      <td>950000.0</td>\n",
       "      <td>5</td>\n",
       "      <td>4.5</td>\n",
       "      <td>3500.0</td>\n",
       "      <td>Stunning 5-bedroom, 4.5-bathroom home in the p...</td>\n",
       "      <td>Oakwood Estates is an exclusive gated communit...</td>\n",
       "    </tr>\n",
       "    <tr>\n",
       "      <th>14</th>\n",
       "      <td>Willow Glen</td>\n",
       "      <td>620000.0</td>\n",
       "      <td>3</td>\n",
       "      <td>2.0</td>\n",
       "      <td>2000.0</td>\n",
       "      <td>Welcome to this charming 3-bedroom, 2-bathroom...</td>\n",
       "      <td>Willow Glen is a vibrant neighborhood with tre...</td>\n",
       "    </tr>\n",
       "  </tbody>\n",
       "</table>\n",
       "</div>"
      ],
      "text/plain": [
       "             Neighborhood      Price  Bedrooms  Bathrooms  House Size  \\\n",
       "0            Willow Creek   500000.0         2        1.0      1200.0   \n",
       "1        Oakridge Estates   750000.0         4        3.0      2800.0   \n",
       "2       Pinecrest Heights   600000.0         3        2.5      2400.0   \n",
       "3              River Oaks  1200000.0         5        4.0      3500.0   \n",
       "4            Sunset Hills   900000.0         4        3.5      3000.0   \n",
       "5          Lakeside Manor   650000.0         3        2.5      2200.0   \n",
       "6             Maple Grove   550000.0         3        2.0      1800.0   \n",
       "7   Mountain View Terrace   700000.0         4        3.0      2500.0   \n",
       "8        Parkside Meadows   680000.0         3        2.5      2300.0   \n",
       "9     Cedar Ridge Estates   850000.0         4        3.5      3200.0   \n",
       "10         Rosewood Hills   720000.0         3        2.5      2400.0   \n",
       "11        Sunflower Grove   590000.0         3        2.0      1900.0   \n",
       "12    Willowbrook Heights   780000.0         4        3.0      2600.0   \n",
       "13        Oakwood Estates   950000.0         5        4.5      3500.0   \n",
       "14            Willow Glen   620000.0         3        2.0      2000.0   \n",
       "\n",
       "                                          Description  \\\n",
       "0   Cozy 2-bedroom, 1-bathroom home in the desirab...   \n",
       "1   Stunning 4-bedroom, 3-bathroom home in the pre...   \n",
       "2   Welcome to this lovely 3-bedroom, 2.5-bathroom...   \n",
       "3   Immaculate 5-bedroom, 4-bathroom home in the e...   \n",
       "4   Elegant 4-bedroom, 3.5-bathroom home in the so...   \n",
       "5   Charming 3-bedroom, 2.5-bathroom home in the s...   \n",
       "6   Welcome to this charming 3-bedroom, 2-bathroom...   \n",
       "7   Spacious 4-bedroom, 3-bathroom home with pictu...   \n",
       "8   Modern 3-bedroom, 2.5-bathroom home in the sce...   \n",
       "9   Luxurious 4-bedroom, 3.5-bathroom home in the ...   \n",
       "10  Welcome to this charming 3-bedroom, 2.5-bathro...   \n",
       "11  Quaint 3-bedroom, 2-bathroom home in the frien...   \n",
       "12  Spacious 4-bedroom, 3-bathroom home in the sce...   \n",
       "13  Stunning 5-bedroom, 4.5-bathroom home in the p...   \n",
       "14  Welcome to this charming 3-bedroom, 2-bathroom...   \n",
       "\n",
       "                             Neighborhood Description  \n",
       "0   Willow Creek is known for its family-friendly ...  \n",
       "1   Oakridge Estates is known for its upscale home...  \n",
       "2   Pinecrest Heights offers a peaceful mountain s...  \n",
       "3   River Oaks is known for its luxury real estate...  \n",
       "4   Sunset Hills offers a blend of luxury living a...  \n",
       "5   Lakeside Manor is a picturesque waterfront com...  \n",
       "6   Maple Grove is known for its quiet streets, co...  \n",
       "7   Mountain View Terrace offers a peaceful escape...  \n",
       "8   Parkside Meadows is a green community with acc...  \n",
       "9   Cedar Ridge Estates is an upscale gated commun...  \n",
       "10  Rosewood Hills is a quiet residential area wit...  \n",
       "11  Sunflower Grove is a tight-knit community with...  \n",
       "12  Willowbrook Heights offers a peaceful suburban...  \n",
       "13  Oakwood Estates is an exclusive gated communit...  \n",
       "14  Willow Glen is a vibrant neighborhood with tre...  "
      ]
     },
     "execution_count": 6,
     "metadata": {},
     "output_type": "execute_result"
    }
   ],
   "source": [
    "def parse_properties(text):\n",
    "    properties = re.split(r'\\n\\nProperty \\d+:\\n', text.strip())\n",
    "    properties = [prop for prop in properties if prop]  # Remove any empty strings\n",
    "\n",
    "    property_list = []\n",
    "\n",
    "    for property in properties:\n",
    "        details = {}\n",
    "        lines = property.split(\"\\n\")\n",
    "        for line in lines:\n",
    "            if line.startswith(\"Neighborhood: \"):\n",
    "                details[\"Neighborhood\"] = line.split(\": \", 1)[1]\n",
    "            elif line.startswith(\"Price: \"):\n",
    "                details[\"Price\"] = line.split(\": \", 1)[1]\n",
    "            elif line.startswith(\"Bedrooms: \"):\n",
    "                details[\"Bedrooms\"] = line.split(\": \", 1)[1]\n",
    "            elif line.startswith(\"Bathrooms: \"):\n",
    "                details[\"Bathrooms\"] = line.split(\": \", 1)[1]\n",
    "            elif line.startswith(\"House Size: \"):\n",
    "                details[\"House Size\"] = line.split(\": \", 1)[1]\n",
    "            elif line.startswith(\"Description: \"):\n",
    "                details[\"Description\"] = line.split(\": \", 1)[1]\n",
    "            elif line.startswith(\"Neighborhood Description: \"):\n",
    "                details[\"Neighborhood Description\"] = line.split(\": \", 1)[1]\n",
    "        property_list.append(details)\n",
    "\n",
    "    df = pd.DataFrame(property_list)\n",
    "\n",
    "    df['Price'] = df['Price'].replace('[\\$,]', '', regex=True).astype(float)\n",
    "    df['House Size'] = df['House Size'].replace('[\\, sqft]', '', regex=True).astype(float)\n",
    "    df['Bedrooms'] = pd.to_numeric(df['Bedrooms'], errors='coerce')\n",
    "    df['Bathrooms'] = pd.to_numeric(df['Bathrooms'], errors='coerce')\n",
    "\n",
    "    return df\n",
    "\n",
    "homes_df = parse_properties(homes_list)\n",
    "homes_df"
   ]
  },
  {
   "cell_type": "code",
   "execution_count": 7,
   "id": "b6abeea1",
   "metadata": {},
   "outputs": [],
   "source": [
    "import openpyxl\n",
    "homes_df.to_excel(\"./homes.xlsx\", index=False)"
   ]
  },
  {
   "cell_type": "code",
   "execution_count": 8,
   "id": "d4ea5f9a",
   "metadata": {},
   "outputs": [
    {
     "data": {
      "text/html": [
       "<div>\n",
       "<style scoped>\n",
       "    .dataframe tbody tr th:only-of-type {\n",
       "        vertical-align: middle;\n",
       "    }\n",
       "\n",
       "    .dataframe tbody tr th {\n",
       "        vertical-align: top;\n",
       "    }\n",
       "\n",
       "    .dataframe thead th {\n",
       "        text-align: right;\n",
       "    }\n",
       "</style>\n",
       "<table border=\"1\" class=\"dataframe\">\n",
       "  <thead>\n",
       "    <tr style=\"text-align: right;\">\n",
       "      <th></th>\n",
       "      <th>Neighborhood</th>\n",
       "      <th>Price</th>\n",
       "      <th>Bedrooms</th>\n",
       "      <th>Bathrooms</th>\n",
       "      <th>House Size</th>\n",
       "      <th>Description</th>\n",
       "      <th>Neighborhood Description</th>\n",
       "    </tr>\n",
       "  </thead>\n",
       "  <tbody>\n",
       "    <tr>\n",
       "      <th>0</th>\n",
       "      <td>Willow Creek</td>\n",
       "      <td>500000</td>\n",
       "      <td>2</td>\n",
       "      <td>1.0</td>\n",
       "      <td>1200</td>\n",
       "      <td>Cozy 2-bedroom, 1-bathroom home in the desirab...</td>\n",
       "      <td>Willow Creek is known for its family-friendly ...</td>\n",
       "    </tr>\n",
       "    <tr>\n",
       "      <th>1</th>\n",
       "      <td>Oakridge Estates</td>\n",
       "      <td>750000</td>\n",
       "      <td>4</td>\n",
       "      <td>3.0</td>\n",
       "      <td>2800</td>\n",
       "      <td>Stunning 4-bedroom, 3-bathroom home in the pre...</td>\n",
       "      <td>Oakridge Estates is known for its upscale home...</td>\n",
       "    </tr>\n",
       "    <tr>\n",
       "      <th>2</th>\n",
       "      <td>Pinecrest Heights</td>\n",
       "      <td>600000</td>\n",
       "      <td>3</td>\n",
       "      <td>2.5</td>\n",
       "      <td>2400</td>\n",
       "      <td>Welcome to this lovely 3-bedroom, 2.5-bathroom...</td>\n",
       "      <td>Pinecrest Heights offers a peaceful mountain s...</td>\n",
       "    </tr>\n",
       "    <tr>\n",
       "      <th>3</th>\n",
       "      <td>River Oaks</td>\n",
       "      <td>1200000</td>\n",
       "      <td>5</td>\n",
       "      <td>4.0</td>\n",
       "      <td>3500</td>\n",
       "      <td>Immaculate 5-bedroom, 4-bathroom home in the e...</td>\n",
       "      <td>River Oaks is known for its luxury real estate...</td>\n",
       "    </tr>\n",
       "    <tr>\n",
       "      <th>4</th>\n",
       "      <td>Sunset Hills</td>\n",
       "      <td>900000</td>\n",
       "      <td>4</td>\n",
       "      <td>3.5</td>\n",
       "      <td>3000</td>\n",
       "      <td>Elegant 4-bedroom, 3.5-bathroom home in the so...</td>\n",
       "      <td>Sunset Hills offers a blend of luxury living a...</td>\n",
       "    </tr>\n",
       "    <tr>\n",
       "      <th>5</th>\n",
       "      <td>Lakeside Manor</td>\n",
       "      <td>650000</td>\n",
       "      <td>3</td>\n",
       "      <td>2.5</td>\n",
       "      <td>2200</td>\n",
       "      <td>Charming 3-bedroom, 2.5-bathroom home in the s...</td>\n",
       "      <td>Lakeside Manor is a picturesque waterfront com...</td>\n",
       "    </tr>\n",
       "    <tr>\n",
       "      <th>6</th>\n",
       "      <td>Maple Grove</td>\n",
       "      <td>550000</td>\n",
       "      <td>3</td>\n",
       "      <td>2.0</td>\n",
       "      <td>1800</td>\n",
       "      <td>Welcome to this charming 3-bedroom, 2-bathroom...</td>\n",
       "      <td>Maple Grove is known for its quiet streets, co...</td>\n",
       "    </tr>\n",
       "    <tr>\n",
       "      <th>7</th>\n",
       "      <td>Mountain View Terrace</td>\n",
       "      <td>700000</td>\n",
       "      <td>4</td>\n",
       "      <td>3.0</td>\n",
       "      <td>2500</td>\n",
       "      <td>Spacious 4-bedroom, 3-bathroom home with pictu...</td>\n",
       "      <td>Mountain View Terrace offers a peaceful escape...</td>\n",
       "    </tr>\n",
       "    <tr>\n",
       "      <th>8</th>\n",
       "      <td>Parkside Meadows</td>\n",
       "      <td>680000</td>\n",
       "      <td>3</td>\n",
       "      <td>2.5</td>\n",
       "      <td>2300</td>\n",
       "      <td>Modern 3-bedroom, 2.5-bathroom home in the sce...</td>\n",
       "      <td>Parkside Meadows is a green community with acc...</td>\n",
       "    </tr>\n",
       "    <tr>\n",
       "      <th>9</th>\n",
       "      <td>Cedar Ridge Estates</td>\n",
       "      <td>850000</td>\n",
       "      <td>4</td>\n",
       "      <td>3.5</td>\n",
       "      <td>3200</td>\n",
       "      <td>Luxurious 4-bedroom, 3.5-bathroom home in the ...</td>\n",
       "      <td>Cedar Ridge Estates is an upscale gated commun...</td>\n",
       "    </tr>\n",
       "    <tr>\n",
       "      <th>10</th>\n",
       "      <td>Rosewood Hills</td>\n",
       "      <td>720000</td>\n",
       "      <td>3</td>\n",
       "      <td>2.5</td>\n",
       "      <td>2400</td>\n",
       "      <td>Welcome to this charming 3-bedroom, 2.5-bathro...</td>\n",
       "      <td>Rosewood Hills is a quiet residential area wit...</td>\n",
       "    </tr>\n",
       "    <tr>\n",
       "      <th>11</th>\n",
       "      <td>Sunflower Grove</td>\n",
       "      <td>590000</td>\n",
       "      <td>3</td>\n",
       "      <td>2.0</td>\n",
       "      <td>1900</td>\n",
       "      <td>Quaint 3-bedroom, 2-bathroom home in the frien...</td>\n",
       "      <td>Sunflower Grove is a tight-knit community with...</td>\n",
       "    </tr>\n",
       "    <tr>\n",
       "      <th>12</th>\n",
       "      <td>Willowbrook Heights</td>\n",
       "      <td>780000</td>\n",
       "      <td>4</td>\n",
       "      <td>3.0</td>\n",
       "      <td>2600</td>\n",
       "      <td>Spacious 4-bedroom, 3-bathroom home in the sce...</td>\n",
       "      <td>Willowbrook Heights offers a peaceful suburban...</td>\n",
       "    </tr>\n",
       "    <tr>\n",
       "      <th>13</th>\n",
       "      <td>Oakwood Estates</td>\n",
       "      <td>950000</td>\n",
       "      <td>5</td>\n",
       "      <td>4.5</td>\n",
       "      <td>3500</td>\n",
       "      <td>Stunning 5-bedroom, 4.5-bathroom home in the p...</td>\n",
       "      <td>Oakwood Estates is an exclusive gated communit...</td>\n",
       "    </tr>\n",
       "    <tr>\n",
       "      <th>14</th>\n",
       "      <td>Willow Glen</td>\n",
       "      <td>620000</td>\n",
       "      <td>3</td>\n",
       "      <td>2.0</td>\n",
       "      <td>2000</td>\n",
       "      <td>Welcome to this charming 3-bedroom, 2-bathroom...</td>\n",
       "      <td>Willow Glen is a vibrant neighborhood with tre...</td>\n",
       "    </tr>\n",
       "  </tbody>\n",
       "</table>\n",
       "</div>"
      ],
      "text/plain": [
       "             Neighborhood    Price  Bedrooms  Bathrooms  House Size  \\\n",
       "0            Willow Creek   500000         2        1.0        1200   \n",
       "1        Oakridge Estates   750000         4        3.0        2800   \n",
       "2       Pinecrest Heights   600000         3        2.5        2400   \n",
       "3              River Oaks  1200000         5        4.0        3500   \n",
       "4            Sunset Hills   900000         4        3.5        3000   \n",
       "5          Lakeside Manor   650000         3        2.5        2200   \n",
       "6             Maple Grove   550000         3        2.0        1800   \n",
       "7   Mountain View Terrace   700000         4        3.0        2500   \n",
       "8        Parkside Meadows   680000         3        2.5        2300   \n",
       "9     Cedar Ridge Estates   850000         4        3.5        3200   \n",
       "10         Rosewood Hills   720000         3        2.5        2400   \n",
       "11        Sunflower Grove   590000         3        2.0        1900   \n",
       "12    Willowbrook Heights   780000         4        3.0        2600   \n",
       "13        Oakwood Estates   950000         5        4.5        3500   \n",
       "14            Willow Glen   620000         3        2.0        2000   \n",
       "\n",
       "                                          Description  \\\n",
       "0   Cozy 2-bedroom, 1-bathroom home in the desirab...   \n",
       "1   Stunning 4-bedroom, 3-bathroom home in the pre...   \n",
       "2   Welcome to this lovely 3-bedroom, 2.5-bathroom...   \n",
       "3   Immaculate 5-bedroom, 4-bathroom home in the e...   \n",
       "4   Elegant 4-bedroom, 3.5-bathroom home in the so...   \n",
       "5   Charming 3-bedroom, 2.5-bathroom home in the s...   \n",
       "6   Welcome to this charming 3-bedroom, 2-bathroom...   \n",
       "7   Spacious 4-bedroom, 3-bathroom home with pictu...   \n",
       "8   Modern 3-bedroom, 2.5-bathroom home in the sce...   \n",
       "9   Luxurious 4-bedroom, 3.5-bathroom home in the ...   \n",
       "10  Welcome to this charming 3-bedroom, 2.5-bathro...   \n",
       "11  Quaint 3-bedroom, 2-bathroom home in the frien...   \n",
       "12  Spacious 4-bedroom, 3-bathroom home in the sce...   \n",
       "13  Stunning 5-bedroom, 4.5-bathroom home in the p...   \n",
       "14  Welcome to this charming 3-bedroom, 2-bathroom...   \n",
       "\n",
       "                             Neighborhood Description  \n",
       "0   Willow Creek is known for its family-friendly ...  \n",
       "1   Oakridge Estates is known for its upscale home...  \n",
       "2   Pinecrest Heights offers a peaceful mountain s...  \n",
       "3   River Oaks is known for its luxury real estate...  \n",
       "4   Sunset Hills offers a blend of luxury living a...  \n",
       "5   Lakeside Manor is a picturesque waterfront com...  \n",
       "6   Maple Grove is known for its quiet streets, co...  \n",
       "7   Mountain View Terrace offers a peaceful escape...  \n",
       "8   Parkside Meadows is a green community with acc...  \n",
       "9   Cedar Ridge Estates is an upscale gated commun...  \n",
       "10  Rosewood Hills is a quiet residential area wit...  \n",
       "11  Sunflower Grove is a tight-knit community with...  \n",
       "12  Willowbrook Heights offers a peaceful suburban...  \n",
       "13  Oakwood Estates is an exclusive gated communit...  \n",
       "14  Willow Glen is a vibrant neighborhood with tre...  "
      ]
     },
     "execution_count": 8,
     "metadata": {},
     "output_type": "execute_result"
    }
   ],
   "source": [
    "df = pd.read_excel(\"./homes.xlsx\")\n",
    "df"
   ]
  },
  {
   "cell_type": "markdown",
   "id": "e166cbd9",
   "metadata": {},
   "source": [
    "## Create Embeddings"
   ]
  },
  {
   "cell_type": "code",
   "execution_count": 9,
   "id": "6a1ac80f",
   "metadata": {},
   "outputs": [
    {
     "name": "stderr",
     "output_type": "stream",
     "text": [
      "/home/student/.local/lib/python3.10/site-packages/sentence_transformers/cross_encoder/CrossEncoder.py:11: TqdmExperimentalWarning: Using `tqdm.autonotebook.tqdm` in notebook mode. Use `tqdm.tqdm` instead to force console mode (e.g. in jupyter console)\n",
      "  from tqdm.autonotebook import tqdm, trange\n"
     ]
    }
   ],
   "source": [
    "import numpy as np\n",
    "from sentence_transformers import SentenceTransformer\n",
    "from typing import Union\n",
    "\n",
    "MODEL_NAME = 'paraphrase-MiniLM-L6-v2'\n",
    "\n",
    "def generate_embeddings(input_data: Union[str, list[str]]) -> np.ndarray:    \n",
    "    model = SentenceTransformer(MODEL_NAME)\n",
    "    embeddings = model.encode(input_data)\n",
    "    return embeddings"
   ]
  },
  {
   "cell_type": "code",
   "execution_count": 10,
   "id": "5459f316",
   "metadata": {
    "scrolled": true
   },
   "outputs": [
    {
     "data": {
      "application/vnd.jupyter.widget-view+json": {
       "model_id": "a76686c9118b40449539a6b258de6e6c",
       "version_major": 2,
       "version_minor": 0
      },
      "text/plain": [
       "modules.json:   0%|          | 0.00/229 [00:00<?, ?B/s]"
      ]
     },
     "metadata": {},
     "output_type": "display_data"
    },
    {
     "data": {
      "application/vnd.jupyter.widget-view+json": {
       "model_id": "500b67eebbe743a29a50018310c75afc",
       "version_major": 2,
       "version_minor": 0
      },
      "text/plain": [
       "config_sentence_transformers.json:   0%|          | 0.00/122 [00:00<?, ?B/s]"
      ]
     },
     "metadata": {},
     "output_type": "display_data"
    },
    {
     "data": {
      "application/vnd.jupyter.widget-view+json": {
       "model_id": "b25f043a616e48d78a88a4fe25dfd653",
       "version_major": 2,
       "version_minor": 0
      },
      "text/plain": [
       "README.md:   0%|          | 0.00/3.73k [00:00<?, ?B/s]"
      ]
     },
     "metadata": {},
     "output_type": "display_data"
    },
    {
     "data": {
      "application/vnd.jupyter.widget-view+json": {
       "model_id": "871990c33cff4e12a7461c60d93576dd",
       "version_major": 2,
       "version_minor": 0
      },
      "text/plain": [
       "sentence_bert_config.json:   0%|          | 0.00/53.0 [00:00<?, ?B/s]"
      ]
     },
     "metadata": {},
     "output_type": "display_data"
    },
    {
     "data": {
      "application/vnd.jupyter.widget-view+json": {
       "model_id": "d950ade5c51b4e64bce3effba54425bb",
       "version_major": 2,
       "version_minor": 0
      },
      "text/plain": [
       "config.json:   0%|          | 0.00/629 [00:00<?, ?B/s]"
      ]
     },
     "metadata": {},
     "output_type": "display_data"
    },
    {
     "data": {
      "application/vnd.jupyter.widget-view+json": {
       "model_id": "06c9db6b2b18449e8d47bc27aa34d633",
       "version_major": 2,
       "version_minor": 0
      },
      "text/plain": [
       "model.safetensors:   0%|          | 0.00/90.9M [00:00<?, ?B/s]"
      ]
     },
     "metadata": {},
     "output_type": "display_data"
    },
    {
     "data": {
      "application/vnd.jupyter.widget-view+json": {
       "model_id": "43297d5c76604930ac47a664801af636",
       "version_major": 2,
       "version_minor": 0
      },
      "text/plain": [
       "tokenizer_config.json:   0%|          | 0.00/314 [00:00<?, ?B/s]"
      ]
     },
     "metadata": {},
     "output_type": "display_data"
    },
    {
     "data": {
      "application/vnd.jupyter.widget-view+json": {
       "model_id": "501cc82257a34b6495ae3ae38a663530",
       "version_major": 2,
       "version_minor": 0
      },
      "text/plain": [
       "vocab.txt:   0%|          | 0.00/232k [00:00<?, ?B/s]"
      ]
     },
     "metadata": {},
     "output_type": "display_data"
    },
    {
     "data": {
      "application/vnd.jupyter.widget-view+json": {
       "model_id": "6c8ffb00c1c64922884fa4b50f7bd9f2",
       "version_major": 2,
       "version_minor": 0
      },
      "text/plain": [
       "tokenizer.json:   0%|          | 0.00/466k [00:00<?, ?B/s]"
      ]
     },
     "metadata": {},
     "output_type": "display_data"
    },
    {
     "data": {
      "application/vnd.jupyter.widget-view+json": {
       "model_id": "c5c5a1da4b1f4f12a602ae1209a4619c",
       "version_major": 2,
       "version_minor": 0
      },
      "text/plain": [
       "special_tokens_map.json:   0%|          | 0.00/112 [00:00<?, ?B/s]"
      ]
     },
     "metadata": {},
     "output_type": "display_data"
    },
    {
     "data": {
      "application/vnd.jupyter.widget-view+json": {
       "model_id": "1d4db45be35e4b53b3b40a2861dec179",
       "version_major": 2,
       "version_minor": 0
      },
      "text/plain": [
       "1_Pooling/config.json:   0%|          | 0.00/190 [00:00<?, ?B/s]"
      ]
     },
     "metadata": {},
     "output_type": "display_data"
    }
   ],
   "source": [
    "combined_texts = df['Description'] + \" \" + df['Neighborhood Description']\n",
    "combined_embeddings = generate_embeddings(combined_texts.tolist())\n",
    "\n",
    "df['Embedding'] = list(combined_embeddings)\n",
    "\n",
    "\n",
    "#description_embeddings = generate_embeddings(df['Description'].tolist())\n",
    "#neighborhood_embeddings = generate_embeddings(df['Neighborhood Description'].tolist())"
   ]
  },
  {
   "cell_type": "code",
   "execution_count": 11,
   "id": "f67b1477",
   "metadata": {},
   "outputs": [
    {
     "data": {
      "text/plain": [
       "(15, 384)"
      ]
     },
     "execution_count": 11,
     "metadata": {},
     "output_type": "execute_result"
    }
   ],
   "source": [
    "combined_embeddings.shape"
   ]
  },
  {
   "cell_type": "markdown",
   "id": "029c9aa8",
   "metadata": {},
   "source": [
    "## Store in Vector Database"
   ]
  },
  {
   "cell_type": "code",
   "execution_count": 12,
   "id": "868207e7",
   "metadata": {},
   "outputs": [],
   "source": [
    "import lancedb\n",
    "from lancedb.pydantic import vector, LanceModel\n",
    "\n",
    "class RealEstate(LanceModel):\n",
    "    neighborhood: str\n",
    "    price: float\n",
    "    bedrooms:int\n",
    "    bathrooms:int\n",
    "    houseSize:float\n",
    "    description: str\n",
    "    neighDesc: str\n",
    "    vector: vector(384) # size of embeddings\n",
    "   # neighDesc: vector(384)\n",
    "        "
   ]
  },
  {
   "cell_type": "code",
   "execution_count": 13,
   "id": "25530457",
   "metadata": {},
   "outputs": [],
   "source": [
    "import pyarrow as pa\n",
    "\n",
    "values = list(zip(\n",
    "    df['Neighborhood'],\n",
    "    df['Price'],\n",
    "    df['Bedrooms'],\n",
    "    df['Bathrooms'],\n",
    "    df['House Size'],\n",
    "    df['Description'],\n",
    "    df['Neighborhood Description'],\n",
    "    df['Embedding'],\n",
    "))\n",
    "\n",
    "keys = RealEstate.__annotations__.keys()\n",
    "data = [dict(zip(keys, v)) for v in values]\n",
    "\n",
    "db = lancedb.connect(\"~/.lancedb\")\n",
    "table_name = \"real_estate\"\n",
    "db.drop_table(table_name, ignore_missing=True)\n",
    "data = pa.Table.from_pylist(data, schema=RealEstate.to_arrow_schema())\n",
    "table = db.create_table(table_name, data=data)"
   ]
  },
  {
   "cell_type": "code",
   "execution_count": 14,
   "id": "b4f947ac",
   "metadata": {},
   "outputs": [
    {
     "data": {
      "text/html": [
       "<div>\n",
       "<style scoped>\n",
       "    .dataframe tbody tr th:only-of-type {\n",
       "        vertical-align: middle;\n",
       "    }\n",
       "\n",
       "    .dataframe tbody tr th {\n",
       "        vertical-align: top;\n",
       "    }\n",
       "\n",
       "    .dataframe thead th {\n",
       "        text-align: right;\n",
       "    }\n",
       "</style>\n",
       "<table border=\"1\" class=\"dataframe\">\n",
       "  <thead>\n",
       "    <tr style=\"text-align: right;\">\n",
       "      <th></th>\n",
       "      <th>neighborhood</th>\n",
       "      <th>price</th>\n",
       "      <th>bedrooms</th>\n",
       "      <th>bathrooms</th>\n",
       "      <th>houseSize</th>\n",
       "      <th>description</th>\n",
       "      <th>neighDesc</th>\n",
       "      <th>vector</th>\n",
       "    </tr>\n",
       "  </thead>\n",
       "  <tbody>\n",
       "    <tr>\n",
       "      <th>0</th>\n",
       "      <td>Willow Creek</td>\n",
       "      <td>500000.0</td>\n",
       "      <td>2</td>\n",
       "      <td>1</td>\n",
       "      <td>1200.0</td>\n",
       "      <td>Cozy 2-bedroom, 1-bathroom home in the desirab...</td>\n",
       "      <td>Willow Creek is known for its family-friendly ...</td>\n",
       "      <td>[0.17979175, -0.29748088, 0.36346433, 0.247457...</td>\n",
       "    </tr>\n",
       "    <tr>\n",
       "      <th>1</th>\n",
       "      <td>Oakridge Estates</td>\n",
       "      <td>750000.0</td>\n",
       "      <td>4</td>\n",
       "      <td>3</td>\n",
       "      <td>2800.0</td>\n",
       "      <td>Stunning 4-bedroom, 3-bathroom home in the pre...</td>\n",
       "      <td>Oakridge Estates is known for its upscale home...</td>\n",
       "      <td>[0.5834801, -0.39588994, 0.11937329, 0.2529195...</td>\n",
       "    </tr>\n",
       "    <tr>\n",
       "      <th>2</th>\n",
       "      <td>Pinecrest Heights</td>\n",
       "      <td>600000.0</td>\n",
       "      <td>3</td>\n",
       "      <td>2</td>\n",
       "      <td>2400.0</td>\n",
       "      <td>Welcome to this lovely 3-bedroom, 2.5-bathroom...</td>\n",
       "      <td>Pinecrest Heights offers a peaceful mountain s...</td>\n",
       "      <td>[0.21183795, -0.11090915, 0.060348827, 0.32521...</td>\n",
       "    </tr>\n",
       "    <tr>\n",
       "      <th>3</th>\n",
       "      <td>River Oaks</td>\n",
       "      <td>1200000.0</td>\n",
       "      <td>5</td>\n",
       "      <td>4</td>\n",
       "      <td>3500.0</td>\n",
       "      <td>Immaculate 5-bedroom, 4-bathroom home in the e...</td>\n",
       "      <td>River Oaks is known for its luxury real estate...</td>\n",
       "      <td>[0.67375374, -0.22719987, -0.07884135, 0.13620...</td>\n",
       "    </tr>\n",
       "    <tr>\n",
       "      <th>4</th>\n",
       "      <td>Sunset Hills</td>\n",
       "      <td>900000.0</td>\n",
       "      <td>4</td>\n",
       "      <td>3</td>\n",
       "      <td>3000.0</td>\n",
       "      <td>Elegant 4-bedroom, 3.5-bathroom home in the so...</td>\n",
       "      <td>Sunset Hills offers a blend of luxury living a...</td>\n",
       "      <td>[0.511041, 0.09430799, -0.03751888, 0.15344027...</td>\n",
       "    </tr>\n",
       "  </tbody>\n",
       "</table>\n",
       "</div>"
      ],
      "text/plain": [
       "        neighborhood      price  bedrooms  bathrooms  houseSize  \\\n",
       "0       Willow Creek   500000.0         2          1     1200.0   \n",
       "1   Oakridge Estates   750000.0         4          3     2800.0   \n",
       "2  Pinecrest Heights   600000.0         3          2     2400.0   \n",
       "3         River Oaks  1200000.0         5          4     3500.0   \n",
       "4       Sunset Hills   900000.0         4          3     3000.0   \n",
       "\n",
       "                                         description  \\\n",
       "0  Cozy 2-bedroom, 1-bathroom home in the desirab...   \n",
       "1  Stunning 4-bedroom, 3-bathroom home in the pre...   \n",
       "2  Welcome to this lovely 3-bedroom, 2.5-bathroom...   \n",
       "3  Immaculate 5-bedroom, 4-bathroom home in the e...   \n",
       "4  Elegant 4-bedroom, 3.5-bathroom home in the so...   \n",
       "\n",
       "                                           neighDesc  \\\n",
       "0  Willow Creek is known for its family-friendly ...   \n",
       "1  Oakridge Estates is known for its upscale home...   \n",
       "2  Pinecrest Heights offers a peaceful mountain s...   \n",
       "3  River Oaks is known for its luxury real estate...   \n",
       "4  Sunset Hills offers a blend of luxury living a...   \n",
       "\n",
       "                                              vector  \n",
       "0  [0.17979175, -0.29748088, 0.36346433, 0.247457...  \n",
       "1  [0.5834801, -0.39588994, 0.11937329, 0.2529195...  \n",
       "2  [0.21183795, -0.11090915, 0.060348827, 0.32521...  \n",
       "3  [0.67375374, -0.22719987, -0.07884135, 0.13620...  \n",
       "4  [0.511041, 0.09430799, -0.03751888, 0.15344027...  "
      ]
     },
     "execution_count": 14,
     "metadata": {},
     "output_type": "execute_result"
    }
   ],
   "source": [
    "table.head().to_pandas()"
   ]
  },
  {
   "cell_type": "code",
   "execution_count": 15,
   "id": "e54c6805",
   "metadata": {},
   "outputs": [],
   "source": [
    "questions = [   \n",
    "                \"How big do you want your house to be?\" ,\n",
    "                \"What are 3 most important things for you in choosing this property?\", \n",
    "                \"Which amenities would you like?\", \n",
    "                \"Which transportation options are important to you?\",\n",
    "                \"How urban do you want your neighborhood to be?\", \n",
    "                \"What is your maximum price?\" \n",
    "            ]\n",
    "answers = [\n",
    "    \"A comfortable three-bedroom house with a spacious kitchen and a cozy living room.\",\n",
    "    \"A quiet neighborhood, good local schools, and convenient shopping options.\",\n",
    "    \"A backyard for gardening, a two-car garage, and a modern, energy-efficient heating system.\",\n",
    "    \"Easy access to a reliable bus line, proximity to a major highway, and bike-friendly roads.\",\n",
    "    \"A balance between suburban tranquility and access to urban amenities like restaurants and theaters.\",\n",
    "    \"750000\"\n",
    "]\n",
    "user_pref = \" \".join(answers)"
   ]
  },
  {
   "cell_type": "markdown",
   "id": "12069972",
   "metadata": {},
   "source": [
    "## User Preferences"
   ]
  },
  {
   "cell_type": "code",
   "execution_count": 16,
   "id": "e34881ff",
   "metadata": {},
   "outputs": [
    {
     "data": {
      "application/vnd.jupyter.widget-view+json": {
       "model_id": "a314eb43b49c4379bd0c96abee60062a",
       "version_major": 2,
       "version_minor": 0
      },
      "text/plain": [
       "Textarea(value='', layout=Layout(width='100%'), placeholder='How big do you want your house to be?')"
      ]
     },
     "metadata": {},
     "output_type": "display_data"
    },
    {
     "data": {
      "application/vnd.jupyter.widget-view+json": {
       "model_id": "3bf9826470354ca88974a98f6e54055b",
       "version_major": 2,
       "version_minor": 0
      },
      "text/plain": [
       "Textarea(value='', layout=Layout(width='100%'), placeholder='What are 3 most important things for you in choos…"
      ]
     },
     "metadata": {},
     "output_type": "display_data"
    },
    {
     "data": {
      "application/vnd.jupyter.widget-view+json": {
       "model_id": "c389aa4123ab4703add24f47bdb1ebfc",
       "version_major": 2,
       "version_minor": 0
      },
      "text/plain": [
       "Textarea(value='', layout=Layout(width='100%'), placeholder='Which amenities would you like?')"
      ]
     },
     "metadata": {},
     "output_type": "display_data"
    },
    {
     "data": {
      "application/vnd.jupyter.widget-view+json": {
       "model_id": "5015ba17d3394723aed7261743cdd8e5",
       "version_major": 2,
       "version_minor": 0
      },
      "text/plain": [
       "Textarea(value='', layout=Layout(width='100%'), placeholder='Which transportation options are important to you…"
      ]
     },
     "metadata": {},
     "output_type": "display_data"
    },
    {
     "data": {
      "application/vnd.jupyter.widget-view+json": {
       "model_id": "1d06f7c1df97461e8446646d4e38045c",
       "version_major": 2,
       "version_minor": 0
      },
      "text/plain": [
       "Textarea(value='', layout=Layout(width='100%'), placeholder='How urban do you want your neighborhood to be?')"
      ]
     },
     "metadata": {},
     "output_type": "display_data"
    },
    {
     "data": {
      "application/vnd.jupyter.widget-view+json": {
       "model_id": "a1bc9cc6d92b4a5fa3cede0510aa5070",
       "version_major": 2,
       "version_minor": 0
      },
      "text/plain": [
       "Textarea(value='', layout=Layout(width='100%'), placeholder='What is your maximum price?')"
      ]
     },
     "metadata": {},
     "output_type": "display_data"
    },
    {
     "data": {
      "application/vnd.jupyter.widget-view+json": {
       "model_id": "480aabea40da44de8f3a6c65a5f8b67f",
       "version_major": 2,
       "version_minor": 0
      },
      "text/plain": [
       "Button(description='Submit', style=ButtonStyle())"
      ]
     },
     "metadata": {},
     "output_type": "display_data"
    },
    {
     "data": {
      "application/vnd.jupyter.widget-view+json": {
       "model_id": "f4b04b6cd7054960b3b817cab8d3b739",
       "version_major": 2,
       "version_minor": 0
      },
      "text/plain": [
       "Output()"
      ]
     },
     "metadata": {},
     "output_type": "display_data"
    }
   ],
   "source": [
    "import ipywidgets as widgets\n",
    "from IPython.display import display, clear_output\n",
    "\n",
    "text_boxes = [widgets.Textarea(placeholder=q, layout=widgets.Layout(width='100%')) for q in questions]\n",
    "\n",
    "submit_button = widgets.Button(description=\"Submit\")\n",
    "output = widgets.Output()\n",
    "\n",
    "user_pref = \"\"\n",
    "max_price = float('inf')\n",
    "\n",
    "def on_submit_clicked(b):\n",
    "    global user_pref, max_price\n",
    "    user_answers = [tb.value for tb in text_boxes[:-1]] #exclude last question\n",
    "    user_pref = \" \".join(user_answers)\n",
    "    \n",
    "    try:\n",
    "        max_price = float(text_boxes[-1].value)\n",
    "    except ValueError:\n",
    "        max_price = float('inf')\n",
    "    \n",
    "    with output:\n",
    "        clear_output()\n",
    "        display(f\"Combined User Preferences: {user_pref}\")\n",
    "        display(f\"Maximum Price: {max_price}\")\n",
    "\n",
    "submit_button.on_click(on_submit_clicked)\n",
    "display(*text_boxes, submit_button, output)"
   ]
  },
  {
   "cell_type": "code",
   "execution_count": 26,
   "id": "f50de197",
   "metadata": {},
   "outputs": [
    {
     "data": {
      "text/plain": [
       "('I want very big house beacuse we are crowded family. luxury, fancy, extravagant. bathub, pool, shopping center. I will use my car and bus. I want to live in dynamic city center.',\n",
       " 9000000.0)"
      ]
     },
     "execution_count": 26,
     "metadata": {},
     "output_type": "execute_result"
    }
   ],
   "source": [
    "user_pref, max_price"
   ]
  },
  {
   "cell_type": "code",
   "execution_count": 27,
   "id": "8f447428",
   "metadata": {},
   "outputs": [],
   "source": [
    "query_embeds = generate_embeddings(user_pref)"
   ]
  },
  {
   "cell_type": "markdown",
   "id": "0ac40b15",
   "metadata": {},
   "source": [
    "## Search by Similarity"
   ]
  },
  {
   "cell_type": "code",
   "execution_count": 28,
   "id": "75549122",
   "metadata": {},
   "outputs": [
    {
     "name": "stderr",
     "output_type": "stream",
     "text": [
      "/tmp/ipykernel_59/3314704255.py:4: UnsupportedWarning: to_df is unsupported as of 0.4.0. Use to_pandas() instead\n",
      "  result = table.search(query_embeds).metric(\"cosine\").where(f\"price<={price}\").limit(3).to_df()\n"
     ]
    },
    {
     "data": {
      "text/html": [
       "<div>\n",
       "<style scoped>\n",
       "    .dataframe tbody tr th:only-of-type {\n",
       "        vertical-align: middle;\n",
       "    }\n",
       "\n",
       "    .dataframe tbody tr th {\n",
       "        vertical-align: top;\n",
       "    }\n",
       "\n",
       "    .dataframe thead th {\n",
       "        text-align: right;\n",
       "    }\n",
       "</style>\n",
       "<table border=\"1\" class=\"dataframe\">\n",
       "  <thead>\n",
       "    <tr style=\"text-align: right;\">\n",
       "      <th></th>\n",
       "      <th>neighborhood</th>\n",
       "      <th>price</th>\n",
       "      <th>bedrooms</th>\n",
       "      <th>bathrooms</th>\n",
       "      <th>houseSize</th>\n",
       "      <th>description</th>\n",
       "      <th>neighDesc</th>\n",
       "      <th>vector</th>\n",
       "      <th>_distance</th>\n",
       "    </tr>\n",
       "  </thead>\n",
       "  <tbody>\n",
       "    <tr>\n",
       "      <th>0</th>\n",
       "      <td>Oakridge Estates</td>\n",
       "      <td>750000.0</td>\n",
       "      <td>4</td>\n",
       "      <td>3</td>\n",
       "      <td>2800.0</td>\n",
       "      <td>Stunning 4-bedroom, 3-bathroom home in the prestigious Oakridge Estates. This beautifully renovated house features a gourmet kitchen, luxurious master suite, and a spacious backyard with a pool. Perfect for those who love to entertain or simply relax in style.</td>\n",
       "      <td>Oakridge Estates is known for its upscale homes, large lots, and manicured landscaping. Residents can enjoy the privacy and serenity of the neighborhood while still being close to shopping centers, fine dining restaurants, and top-rated schools.</td>\n",
       "      <td>[0.5834801, -0.39588994, 0.11937329, 0.25291958, -0.2614146, -0.1681921, -0.29145432, -0.5201467, 0.12030552, 0.047041014, -0.26196066, -0.19209164, -0.11463349, 0.36400902, -0.26143846, 0.04541526, 0.23073936, 0.13753882, 0.15945232, 0.43020713, -0.21088076, -0.07264419, 0.073262826, -0.018082695, 0.14294064, 0.03994311, 0.042969353, 0.19699329, -0.25695714, -0.3808476, 0.20731187, -0.10118194, 0.07465602, -0.1676105, -0.3324507, 0.1403715, -0.2218089, -0.5088077, -0.042636853, -0.17275621, -0.5189221, 0.270187, 0.5430273, 0.16084945, -0.30532974, 0.494279, -0.07035437, -0.077872016, 0.30965322, -0.027157879, 0.07050074, -0.007663371, 0.2345454, 0.20676267, -0.38952145, 0.5800222, -0.08773792, -0.30221045, 0.021999095, 0.15487342, 0.49229234, 0.39095238, 0.17433561, 0.14734994, -0.44728318, 0.2936581, -0.18241866, 0.30172464, -0.26038697, -0.118413664, 0.074206255, -0.11762884, -0.17255041, -0.16770865, 0.16247013, 0.06675718, -0.043319847, -0.045865342, 0.02859807, 0.18493499, 0.078540586, -0.18082136, -0.36000976, 0.10753367, -0.30591226, -0.2817893, -0.108783856, -0.27843505, 0.0616911, -0.20471115, 0.5480257, 0.43087813, -0.35739356, -0.3464391, 0.14195317, -0.24404024, -0.039933763, -0.107541464, 0.19124478, 0.11355587, ...]</td>\n",
       "      <td>0.533749</td>\n",
       "    </tr>\n",
       "    <tr>\n",
       "      <th>1</th>\n",
       "      <td>Oakwood Estates</td>\n",
       "      <td>950000.0</td>\n",
       "      <td>5</td>\n",
       "      <td>4</td>\n",
       "      <td>3500.0</td>\n",
       "      <td>Stunning 5-bedroom, 4.5-bathroom home in the prestigious Oakwood Estates. This custom-designed house features a grand foyer, formal living room, home theater, and a resort-style backyard with a pool and spa. Perfect for those who appreciate luxury living.</td>\n",
       "      <td>Oakwood Estates is an exclusive gated community known for its grand estates, lush landscaping, and private amenities. Residents can enjoy a luxurious lifestyle with access to golf courses, country clubs, and upscale shopping options in this upscale neighborhood.</td>\n",
       "      <td>[0.69241416, -0.094680294, 0.0957188, 0.20066704, -0.14628619, 0.021363698, -0.2984039, -0.47927296, 0.22154954, 0.23132436, -0.18307124, -0.1566832, -0.09524917, 0.4341472, -0.08012002, 0.21258397, -0.056597706, -0.074774705, 0.04786504, 0.4820935, -0.054702014, 0.016258879, 0.0314355, -0.084208935, 0.0006768755, -0.12944542, -0.13185945, 0.2009954, -0.24002515, -0.29108575, 0.29882446, -0.087806426, -0.028017756, 0.050850466, -0.30333173, 0.13328406, -0.2978954, -0.36975017, 0.023965128, -0.054266587, -0.39570513, 0.14790037, 0.4932756, 0.06958468, -0.21298021, 0.48687106, 0.19109723, -0.06998982, 0.23075701, 0.023752496, 0.03650022, 0.29308513, 0.101846606, 0.12095612, -0.2505637, 0.53989786, -0.13219883, -0.3102987, -0.23316953, 0.09489681, 0.46055484, 0.35340908, 0.054177716, 0.09691672, -0.75430804, 0.22658758, -0.006605226, 0.3422806, -0.04565078, -0.33964962, -0.10092672, -0.054459527, -0.40712613, -0.18906085, 0.24318072, 0.27090818, -0.20717406, -0.18023255, 0.12446414, 0.09484439, 0.039240777, 0.06998025, -0.23691474, -0.07911965, -0.1965612, -0.2566768, -0.005606722, -0.113372155, 0.027366998, -0.20878027, 0.66625375, 0.158656, -0.41371134, -0.24082154, 0.039685026, 0.13278891, 0.06377676, -0.18241586, 0.072824135, 0.083514065, ...]</td>\n",
       "      <td>0.534609</td>\n",
       "    </tr>\n",
       "    <tr>\n",
       "      <th>2</th>\n",
       "      <td>Maple Grove</td>\n",
       "      <td>550000.0</td>\n",
       "      <td>3</td>\n",
       "      <td>2</td>\n",
       "      <td>1800.0</td>\n",
       "      <td>Welcome to this charming 3-bedroom, 2-bathroom home in the desirable Maple Grove neighborhood. This single-story house features a bright and open floor plan, vaulted ceilings, and a spacious backyard with a fruit tree orchard. Ideal for first-time homebuyers or downsizing retirees.</td>\n",
       "      <td>Maple Grove is known for its quiet streets, community parks, and friendly neighbors. Residents can enjoy outdoor picnics, farmers markets, and local events in this family-friendly neighborhood with a strong sense of community.</td>\n",
       "      <td>[0.16973737, 0.039449964, 0.079721086, 0.3221063, 0.012630377, 0.13068493, -0.19776787, -0.40978998, 0.005327887, 0.08643251, 0.006501427, 0.05300136, -0.066793635, 0.29165545, -0.047219105, 0.07099377, -0.041864835, 0.4851497, 0.07106333, 0.41314733, -0.066973366, -0.16133846, -0.004637962, 0.047849324, 0.18107945, -0.095642634, -0.19730528, 0.1572597, -0.07109633, -0.21766898, 0.30079412, 0.26138446, 0.15793476, 0.06268501, -0.03174875, 0.22677954, 0.112564124, -0.31168398, -0.06715478, -0.19512217, -0.3229458, 0.09992079, 0.32852718, 0.17257848, -0.24637903, 0.45211074, 0.18000399, -0.13148363, 0.06489212, -0.013187299, -0.030374276, 0.06835951, 0.4149915, 0.13145405, -0.043031838, 0.3605588, -0.0126865795, -0.052439928, 0.062342975, 0.14468774, 0.38155174, 0.0014002358, -0.25306818, 0.11306079, -0.37424895, 0.04634777, -0.111671776, 0.049306504, -0.05402052, -0.45822272, -0.12077272, -0.03319126, -0.5172816, -0.14607617, 0.093002275, -0.13504487, 0.005542197, 0.14769202, 0.037843376, 0.020013966, 0.324008, -0.06607483, -0.15912071, -0.08149079, -0.16286127, -0.31158236, -0.011339123, 0.13580741, -0.16247812, -0.2272375, 0.3230109, 0.24594119, -0.023908855, -0.17339037, -0.04801084, 0.034015127, 0.007910231, 0.024355652, -0.037319496, 0.105920345, ...]</td>\n",
       "      <td>0.536962</td>\n",
       "    </tr>\n",
       "  </tbody>\n",
       "</table>\n",
       "</div>"
      ],
      "text/plain": [
       "       neighborhood     price  bedrooms  bathrooms  houseSize  \\\n",
       "0  Oakridge Estates  750000.0         4          3     2800.0   \n",
       "1   Oakwood Estates  950000.0         5          4     3500.0   \n",
       "2       Maple Grove  550000.0         3          2     1800.0   \n",
       "\n",
       "                                                                                                                                                                                                                                                                                  description  \\\n",
       "0                        Stunning 4-bedroom, 3-bathroom home in the prestigious Oakridge Estates. This beautifully renovated house features a gourmet kitchen, luxurious master suite, and a spacious backyard with a pool. Perfect for those who love to entertain or simply relax in style.   \n",
       "1                             Stunning 5-bedroom, 4.5-bathroom home in the prestigious Oakwood Estates. This custom-designed house features a grand foyer, formal living room, home theater, and a resort-style backyard with a pool and spa. Perfect for those who appreciate luxury living.   \n",
       "2  Welcome to this charming 3-bedroom, 2-bathroom home in the desirable Maple Grove neighborhood. This single-story house features a bright and open floor plan, vaulted ceilings, and a spacious backyard with a fruit tree orchard. Ideal for first-time homebuyers or downsizing retirees.   \n",
       "\n",
       "                                                                                                                                                                                                                                                                neighDesc  \\\n",
       "0                   Oakridge Estates is known for its upscale homes, large lots, and manicured landscaping. Residents can enjoy the privacy and serenity of the neighborhood while still being close to shopping centers, fine dining restaurants, and top-rated schools.   \n",
       "1  Oakwood Estates is an exclusive gated community known for its grand estates, lush landscaping, and private amenities. Residents can enjoy a luxurious lifestyle with access to golf courses, country clubs, and upscale shopping options in this upscale neighborhood.   \n",
       "2                                      Maple Grove is known for its quiet streets, community parks, and friendly neighbors. Residents can enjoy outdoor picnics, farmers markets, and local events in this family-friendly neighborhood with a strong sense of community.   \n",
       "\n",
       "                                                                                                                                                                                                                                                                                                                                                                                                                                                                                                                                                                                                                                                                                                                                                                                                                                                                                                                                                                                                                                                                                                                                                                                                                                                                                                                        vector  \\\n",
       "0                           [0.5834801, -0.39588994, 0.11937329, 0.25291958, -0.2614146, -0.1681921, -0.29145432, -0.5201467, 0.12030552, 0.047041014, -0.26196066, -0.19209164, -0.11463349, 0.36400902, -0.26143846, 0.04541526, 0.23073936, 0.13753882, 0.15945232, 0.43020713, -0.21088076, -0.07264419, 0.073262826, -0.018082695, 0.14294064, 0.03994311, 0.042969353, 0.19699329, -0.25695714, -0.3808476, 0.20731187, -0.10118194, 0.07465602, -0.1676105, -0.3324507, 0.1403715, -0.2218089, -0.5088077, -0.042636853, -0.17275621, -0.5189221, 0.270187, 0.5430273, 0.16084945, -0.30532974, 0.494279, -0.07035437, -0.077872016, 0.30965322, -0.027157879, 0.07050074, -0.007663371, 0.2345454, 0.20676267, -0.38952145, 0.5800222, -0.08773792, -0.30221045, 0.021999095, 0.15487342, 0.49229234, 0.39095238, 0.17433561, 0.14734994, -0.44728318, 0.2936581, -0.18241866, 0.30172464, -0.26038697, -0.118413664, 0.074206255, -0.11762884, -0.17255041, -0.16770865, 0.16247013, 0.06675718, -0.043319847, -0.045865342, 0.02859807, 0.18493499, 0.078540586, -0.18082136, -0.36000976, 0.10753367, -0.30591226, -0.2817893, -0.108783856, -0.27843505, 0.0616911, -0.20471115, 0.5480257, 0.43087813, -0.35739356, -0.3464391, 0.14195317, -0.24404024, -0.039933763, -0.107541464, 0.19124478, 0.11355587, ...]   \n",
       "1             [0.69241416, -0.094680294, 0.0957188, 0.20066704, -0.14628619, 0.021363698, -0.2984039, -0.47927296, 0.22154954, 0.23132436, -0.18307124, -0.1566832, -0.09524917, 0.4341472, -0.08012002, 0.21258397, -0.056597706, -0.074774705, 0.04786504, 0.4820935, -0.054702014, 0.016258879, 0.0314355, -0.084208935, 0.0006768755, -0.12944542, -0.13185945, 0.2009954, -0.24002515, -0.29108575, 0.29882446, -0.087806426, -0.028017756, 0.050850466, -0.30333173, 0.13328406, -0.2978954, -0.36975017, 0.023965128, -0.054266587, -0.39570513, 0.14790037, 0.4932756, 0.06958468, -0.21298021, 0.48687106, 0.19109723, -0.06998982, 0.23075701, 0.023752496, 0.03650022, 0.29308513, 0.101846606, 0.12095612, -0.2505637, 0.53989786, -0.13219883, -0.3102987, -0.23316953, 0.09489681, 0.46055484, 0.35340908, 0.054177716, 0.09691672, -0.75430804, 0.22658758, -0.006605226, 0.3422806, -0.04565078, -0.33964962, -0.10092672, -0.054459527, -0.40712613, -0.18906085, 0.24318072, 0.27090818, -0.20717406, -0.18023255, 0.12446414, 0.09484439, 0.039240777, 0.06998025, -0.23691474, -0.07911965, -0.1965612, -0.2566768, -0.005606722, -0.113372155, 0.027366998, -0.20878027, 0.66625375, 0.158656, -0.41371134, -0.24082154, 0.039685026, 0.13278891, 0.06377676, -0.18241586, 0.072824135, 0.083514065, ...]   \n",
       "2  [0.16973737, 0.039449964, 0.079721086, 0.3221063, 0.012630377, 0.13068493, -0.19776787, -0.40978998, 0.005327887, 0.08643251, 0.006501427, 0.05300136, -0.066793635, 0.29165545, -0.047219105, 0.07099377, -0.041864835, 0.4851497, 0.07106333, 0.41314733, -0.066973366, -0.16133846, -0.004637962, 0.047849324, 0.18107945, -0.095642634, -0.19730528, 0.1572597, -0.07109633, -0.21766898, 0.30079412, 0.26138446, 0.15793476, 0.06268501, -0.03174875, 0.22677954, 0.112564124, -0.31168398, -0.06715478, -0.19512217, -0.3229458, 0.09992079, 0.32852718, 0.17257848, -0.24637903, 0.45211074, 0.18000399, -0.13148363, 0.06489212, -0.013187299, -0.030374276, 0.06835951, 0.4149915, 0.13145405, -0.043031838, 0.3605588, -0.0126865795, -0.052439928, 0.062342975, 0.14468774, 0.38155174, 0.0014002358, -0.25306818, 0.11306079, -0.37424895, 0.04634777, -0.111671776, 0.049306504, -0.05402052, -0.45822272, -0.12077272, -0.03319126, -0.5172816, -0.14607617, 0.093002275, -0.13504487, 0.005542197, 0.14769202, 0.037843376, 0.020013966, 0.324008, -0.06607483, -0.15912071, -0.08149079, -0.16286127, -0.31158236, -0.011339123, 0.13580741, -0.16247812, -0.2272375, 0.3230109, 0.24594119, -0.023908855, -0.17339037, -0.04801084, 0.034015127, 0.007910231, 0.024355652, -0.037319496, 0.105920345, ...]   \n",
       "\n",
       "   _distance  \n",
       "0   0.533749  \n",
       "1   0.534609  \n",
       "2   0.536962  "
      ]
     },
     "execution_count": 28,
     "metadata": {},
     "output_type": "execute_result"
    }
   ],
   "source": [
    "pd.set_option('display.max_colwidth', None)\n",
    "\n",
    "def search_estate(embed, price=float('inf')):\n",
    "    result = table.search(query_embeds).metric(\"cosine\").where(f\"price<={price}\").limit(3).to_df()\n",
    "    return result\n",
    "\n",
    "result= search_estate(query_embeds,price=max_price)\n",
    "result"
   ]
  },
  {
   "cell_type": "code",
   "execution_count": 30,
   "id": "319c6fce",
   "metadata": {},
   "outputs": [
    {
     "name": "stdout",
     "output_type": "stream",
     "text": [
      "    neighborhood    price  bedrooms  bathrooms  houseSize                                                                                                                                                                                                                                                                                description                                                                                                                                                                                                                                                              neighDesc\n",
      "Oakridge Estates 750000.0         4          3     2800.0                       Stunning 4-bedroom, 3-bathroom home in the prestigious Oakridge Estates. This beautifully renovated house features a gourmet kitchen, luxurious master suite, and a spacious backyard with a pool. Perfect for those who love to entertain or simply relax in style.                  Oakridge Estates is known for its upscale homes, large lots, and manicured landscaping. Residents can enjoy the privacy and serenity of the neighborhood while still being close to shopping centers, fine dining restaurants, and top-rated schools.\n",
      " Oakwood Estates 950000.0         5          4     3500.0                            Stunning 5-bedroom, 4.5-bathroom home in the prestigious Oakwood Estates. This custom-designed house features a grand foyer, formal living room, home theater, and a resort-style backyard with a pool and spa. Perfect for those who appreciate luxury living. Oakwood Estates is an exclusive gated community known for its grand estates, lush landscaping, and private amenities. Residents can enjoy a luxurious lifestyle with access to golf courses, country clubs, and upscale shopping options in this upscale neighborhood.\n",
      "     Maple Grove 550000.0         3          2     1800.0 Welcome to this charming 3-bedroom, 2-bathroom home in the desirable Maple Grove neighborhood. This single-story house features a bright and open floor plan, vaulted ceilings, and a spacious backyard with a fruit tree orchard. Ideal for first-time homebuyers or downsizing retirees.                                     Maple Grove is known for its quiet streets, community parks, and friendly neighbors. Residents can enjoy outdoor picnics, farmers markets, and local events in this family-friendly neighborhood with a strong sense of community.\n"
     ]
    }
   ],
   "source": [
    "result_str = result.iloc[:,:7].to_string(index=False)\n",
    "print(result_str)"
   ]
  },
  {
   "cell_type": "markdown",
   "id": "a9f88d80",
   "metadata": {},
   "source": [
    "## Personalized Listed Descriptions"
   ]
  },
  {
   "cell_type": "code",
   "execution_count": 31,
   "id": "8f15873a",
   "metadata": {},
   "outputs": [],
   "source": [
    "user_prompt = f\"The preferences of the customer is: {user_pref} and the maximum price customer \\\n",
    "willing to give is {max_price} \\\n",
    "The available real estate list is: {result_str}. Explain why these real estates are appropiate for the customer.\""
   ]
  },
  {
   "cell_type": "code",
   "execution_count": 32,
   "id": "49be56fb",
   "metadata": {},
   "outputs": [
    {
     "name": "stdout",
     "output_type": "stream",
     "text": [
      "1. The first option in Oakridge Estates offers a large house with 4 bedrooms and 3 bathrooms, totaling 2800.0 square feet. The description highlights a stunning and renovated home with a pool in the backyard, perfect for entertaining and relaxation. The neighborhood, Oakridge Estates, is known for its upscale homes, large lots, and beautiful landscaping, providing privacy and serenity. This option aligns with the customer's preference for a big house with luxury features like a pool and a focus on entertaining. Additionally, the neighborhood's proximity to shopping centers aligns with the customer's criteria.\n",
      "\n",
      "2. The second option in Oakwood Estates is a luxurious 5-bedroom, 4.5-bathroom home spanning 3500.0 square feet, ideal for a crowded family. The house boasts custom design, a home theater, and a pool with a spa in the backyard. Oakwood Estates is described as an exclusive gated community with grand estates and lush landscaping, offering a luxurious lifestyle with access to upscale amenities and shopping options. This property meets the customer's preference for a fancy, extravagant home with luxury features like a pool, spa, and a focus on high-end living.\n",
      "\n",
      "3. The third option in Maple Grove features a cozy 3-bedroom, 2-bathroom home with 1800.0 square feet, which may not be suitable for a crowded family looking for a very big house. While the house is charming and suitable for first-time homebuyers or retirees, it does not align with the customer's preference for a spacious and extravagant home. The Maple Grove neighborhood is known for its quiet streets and family-friendly atmosphere, offering a sense of community, but it lacks the luxury amenities and dynamic city center location desired by the customer.\n"
     ]
    }
   ],
   "source": [
    "response = openai.ChatCompletion.create(\n",
    "          model=\"gpt-3.5-turbo\",\n",
    "          messages=[\n",
    "          {\n",
    "            \"role\": \"system\",\n",
    "            \"content\": \"\"\"Your goal is to generate descriptions to the real estates provided, by mentioning how neighborhood, price, \n",
    "            bedroom count, bathroom count, house size, description of the house and neighborhood description aligns with the customer's preferences.\n",
    "            Do not alter factual information. Give the answer in same order as the provided list, explain each and all of the options. \n",
    "              \"\"\"\n",
    "          },\n",
    "          {\n",
    "            \"role\": \"user\",\n",
    "            \"content\": user_prompt\n",
    "          }\n",
    "          ],\n",
    "        temperature=1,\n",
    "        #max_tokens=10000,\n",
    "        top_p=1,\n",
    "        frequency_penalty=0,\n",
    "        presence_penalty=0\n",
    "        )\n",
    "\n",
    "recommend= response.choices[0].message.content\n",
    "\n",
    "print(recommend)"
   ]
  },
  {
   "cell_type": "code",
   "execution_count": null,
   "id": "3f354e68",
   "metadata": {},
   "outputs": [],
   "source": []
  },
  {
   "cell_type": "code",
   "execution_count": null,
   "id": "50806f8d",
   "metadata": {},
   "outputs": [],
   "source": []
  },
  {
   "cell_type": "code",
   "execution_count": null,
   "id": "ed69e4bd",
   "metadata": {},
   "outputs": [],
   "source": []
  }
 ],
 "metadata": {
  "kernelspec": {
   "display_name": "Python 3 (ipykernel)",
   "language": "python",
   "name": "python3"
  },
  "language_info": {
   "codemirror_mode": {
    "name": "ipython",
    "version": 3
   },
   "file_extension": ".py",
   "mimetype": "text/x-python",
   "name": "python",
   "nbconvert_exporter": "python",
   "pygments_lexer": "ipython3",
   "version": "3.10.11"
  }
 },
 "nbformat": 4,
 "nbformat_minor": 5
}
